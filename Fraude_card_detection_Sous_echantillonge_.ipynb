{
  "cells": [
    {
      "cell_type": "markdown",
      "id": "pC_u06DMEyoD",
      "metadata": {
        "id": "pC_u06DMEyoD"
      },
      "source": [
        "<h1 align=\"center\"> MACHINE LEARNING </h1>\n",
        "\n",
        "\n"
      ]
    },
    {
      "cell_type": "markdown",
      "id": "iBJnSBg5EyoF",
      "metadata": {
        "id": "iBJnSBg5EyoF"
      },
      "source": [
        "**Project :** Credit Card Fraud Detection With Machine Learning"
      ]
    },
    {
      "cell_type": "markdown",
      "id": "f5WuxHKYEyoF",
      "metadata": {
        "id": "f5WuxHKYEyoF"
      },
      "source": [
        "<h1 align=\"center\"> PLAN   </h1>\n",
        "\n",
        "<h2>INTRODUCTION</h2>\n",
        "\n",
        "I. <b>PREMIER CONTACT</b><br>\n",
        "a) [Importation](#debut)<br>\n",
        "b) [Visualisation](#1)<br><br>\n",
        "....  i) [Rapport Résumé avec Pandas-Profiling ](#pp)<br><br>\n",
        "....  ii) [Matrices de Correlation](#2)<br><br>\n",
        "c) [Test des Modèles](#3)<br><br>\n",
        "....  i) [Random Forest](#4)<br><br>\n",
        ".......     -) [Interpretation du Random Forest](#5)<br><br>\n",
        "  ii) [SVM](#6)<br><br>\n",
        ".......     -) [Interpretation du SVM](#7)<br><br>\n",
        "....  iii) [Reseau de Neurones](#8)<br><br>\n",
        ".......     -) [Interpretation du Reseau de Neurones](#9)<br><br>\n",
        "<b>Conclusion  Partielle</b><br>  \n",
        "\n",
        "II. <b>PREPROCESSING</b><br>\n",
        "a) [Séparation et Visualisation](#10)<br>\n",
        "b) [Scaling](#12)<br><br>\n",
        "\n",
        "III) <b>Sur-échantillonnage avec imblearn</b><br>\n",
        "A. [Fitting model](#fm)</b><br>\n",
        ".... a) [Random Forest](#15)<br>\n",
        ".... b) [SVM](#16)<br>\n",
        ".... c) [RESEAU DE NEURONES](#17)<br>\n",
        "\n",
        "\n",
        "IV. <b>Sous-echantillonage</b><br>\n",
        "A) [Normalisation de notre données d'entrainement](#19)<br>\n",
        "B) [Application des modèles](#20)<br>\n",
        ".... a) [Random Forest](#21)<br>\n",
        ".... b) [SVM](#22)<br>\n",
        ".... c) [RESEAU DE NEURONES](#23)<br>\n",
        "\n",
        "<h2>CONCLUSION </h2>\n"
      ]
    },
    {
      "cell_type": "markdown",
      "id": "OOadHl6XEyoK",
      "metadata": {
        "id": "OOadHl6XEyoK"
      },
      "source": [
        "# I.  PREMIER CONTACT"
      ]
    },
    {
      "cell_type": "markdown",
      "id": "IbHvx0sOEyoK",
      "metadata": {
        "id": "IbHvx0sOEyoK"
      },
      "source": [
        "## Importation\n",
        "<a id=\"debut\"></a>"
      ]
    },
    {
      "cell_type": "code",
      "execution_count": 2,
      "id": "w-i0V3eWEyoK",
      "metadata": {
        "id": "w-i0V3eWEyoK"
      },
      "outputs": [],
      "source": [
        "import numpy as np\n",
        "import pandas as pd\n",
        "import seaborn as sns\n",
        "import matplotlib.pyplot as plt\n",
        "#from visualization import viz_data\n",
        "import warnings\n",
        "warnings.filterwarnings(\"ignore\")"
      ]
    },
    {
      "cell_type": "code",
      "execution_count": 3,
      "id": "Vhvxx1GpEyoK",
      "metadata": {
        "id": "Vhvxx1GpEyoK"
      },
      "outputs": [],
      "source": [
        "dt = pd.read_csv('/Users/khadygaye/Documents/Fraud Card detection /creditcard.csv')"
      ]
    },
    {
      "cell_type": "code",
      "execution_count": 4,
      "id": "IwYHD3v5EyoK",
      "metadata": {
        "colab": {
          "base_uri": "https://localhost:8080/",
          "height": 255
        },
        "id": "IwYHD3v5EyoK",
        "outputId": "695fedd6-46ca-4e6e-876a-addad32c77a2"
      },
      "outputs": [
        {
          "data": {
            "text/html": [
              "<div>\n",
              "<style scoped>\n",
              "    .dataframe tbody tr th:only-of-type {\n",
              "        vertical-align: middle;\n",
              "    }\n",
              "\n",
              "    .dataframe tbody tr th {\n",
              "        vertical-align: top;\n",
              "    }\n",
              "\n",
              "    .dataframe thead th {\n",
              "        text-align: right;\n",
              "    }\n",
              "</style>\n",
              "<table border=\"1\" class=\"dataframe\">\n",
              "  <thead>\n",
              "    <tr style=\"text-align: right;\">\n",
              "      <th></th>\n",
              "      <th>Time</th>\n",
              "      <th>V1</th>\n",
              "      <th>V2</th>\n",
              "      <th>V3</th>\n",
              "      <th>V4</th>\n",
              "      <th>V5</th>\n",
              "      <th>V6</th>\n",
              "      <th>V7</th>\n",
              "      <th>V8</th>\n",
              "      <th>V9</th>\n",
              "      <th>...</th>\n",
              "      <th>V21</th>\n",
              "      <th>V22</th>\n",
              "      <th>V23</th>\n",
              "      <th>V24</th>\n",
              "      <th>V25</th>\n",
              "      <th>V26</th>\n",
              "      <th>V27</th>\n",
              "      <th>V28</th>\n",
              "      <th>Amount</th>\n",
              "      <th>Class</th>\n",
              "    </tr>\n",
              "  </thead>\n",
              "  <tbody>\n",
              "    <tr>\n",
              "      <th>0</th>\n",
              "      <td>0.0</td>\n",
              "      <td>-1.359807</td>\n",
              "      <td>-0.072781</td>\n",
              "      <td>2.536347</td>\n",
              "      <td>1.378155</td>\n",
              "      <td>-0.338321</td>\n",
              "      <td>0.462388</td>\n",
              "      <td>0.239599</td>\n",
              "      <td>0.098698</td>\n",
              "      <td>0.363787</td>\n",
              "      <td>...</td>\n",
              "      <td>-0.018307</td>\n",
              "      <td>0.277838</td>\n",
              "      <td>-0.110474</td>\n",
              "      <td>0.066928</td>\n",
              "      <td>0.128539</td>\n",
              "      <td>-0.189115</td>\n",
              "      <td>0.133558</td>\n",
              "      <td>-0.021053</td>\n",
              "      <td>149.62</td>\n",
              "      <td>0</td>\n",
              "    </tr>\n",
              "    <tr>\n",
              "      <th>1</th>\n",
              "      <td>0.0</td>\n",
              "      <td>1.191857</td>\n",
              "      <td>0.266151</td>\n",
              "      <td>0.166480</td>\n",
              "      <td>0.448154</td>\n",
              "      <td>0.060018</td>\n",
              "      <td>-0.082361</td>\n",
              "      <td>-0.078803</td>\n",
              "      <td>0.085102</td>\n",
              "      <td>-0.255425</td>\n",
              "      <td>...</td>\n",
              "      <td>-0.225775</td>\n",
              "      <td>-0.638672</td>\n",
              "      <td>0.101288</td>\n",
              "      <td>-0.339846</td>\n",
              "      <td>0.167170</td>\n",
              "      <td>0.125895</td>\n",
              "      <td>-0.008983</td>\n",
              "      <td>0.014724</td>\n",
              "      <td>2.69</td>\n",
              "      <td>0</td>\n",
              "    </tr>\n",
              "    <tr>\n",
              "      <th>2</th>\n",
              "      <td>1.0</td>\n",
              "      <td>-1.358354</td>\n",
              "      <td>-1.340163</td>\n",
              "      <td>1.773209</td>\n",
              "      <td>0.379780</td>\n",
              "      <td>-0.503198</td>\n",
              "      <td>1.800499</td>\n",
              "      <td>0.791461</td>\n",
              "      <td>0.247676</td>\n",
              "      <td>-1.514654</td>\n",
              "      <td>...</td>\n",
              "      <td>0.247998</td>\n",
              "      <td>0.771679</td>\n",
              "      <td>0.909412</td>\n",
              "      <td>-0.689281</td>\n",
              "      <td>-0.327642</td>\n",
              "      <td>-0.139097</td>\n",
              "      <td>-0.055353</td>\n",
              "      <td>-0.059752</td>\n",
              "      <td>378.66</td>\n",
              "      <td>0</td>\n",
              "    </tr>\n",
              "    <tr>\n",
              "      <th>3</th>\n",
              "      <td>1.0</td>\n",
              "      <td>-0.966272</td>\n",
              "      <td>-0.185226</td>\n",
              "      <td>1.792993</td>\n",
              "      <td>-0.863291</td>\n",
              "      <td>-0.010309</td>\n",
              "      <td>1.247203</td>\n",
              "      <td>0.237609</td>\n",
              "      <td>0.377436</td>\n",
              "      <td>-1.387024</td>\n",
              "      <td>...</td>\n",
              "      <td>-0.108300</td>\n",
              "      <td>0.005274</td>\n",
              "      <td>-0.190321</td>\n",
              "      <td>-1.175575</td>\n",
              "      <td>0.647376</td>\n",
              "      <td>-0.221929</td>\n",
              "      <td>0.062723</td>\n",
              "      <td>0.061458</td>\n",
              "      <td>123.50</td>\n",
              "      <td>0</td>\n",
              "    </tr>\n",
              "    <tr>\n",
              "      <th>4</th>\n",
              "      <td>2.0</td>\n",
              "      <td>-1.158233</td>\n",
              "      <td>0.877737</td>\n",
              "      <td>1.548718</td>\n",
              "      <td>0.403034</td>\n",
              "      <td>-0.407193</td>\n",
              "      <td>0.095921</td>\n",
              "      <td>0.592941</td>\n",
              "      <td>-0.270533</td>\n",
              "      <td>0.817739</td>\n",
              "      <td>...</td>\n",
              "      <td>-0.009431</td>\n",
              "      <td>0.798278</td>\n",
              "      <td>-0.137458</td>\n",
              "      <td>0.141267</td>\n",
              "      <td>-0.206010</td>\n",
              "      <td>0.502292</td>\n",
              "      <td>0.219422</td>\n",
              "      <td>0.215153</td>\n",
              "      <td>69.99</td>\n",
              "      <td>0</td>\n",
              "    </tr>\n",
              "  </tbody>\n",
              "</table>\n",
              "<p>5 rows × 31 columns</p>\n",
              "</div>"
            ],
            "text/plain": [
              "   Time        V1        V2        V3        V4        V5        V6        V7  \\\n",
              "0   0.0 -1.359807 -0.072781  2.536347  1.378155 -0.338321  0.462388  0.239599   \n",
              "1   0.0  1.191857  0.266151  0.166480  0.448154  0.060018 -0.082361 -0.078803   \n",
              "2   1.0 -1.358354 -1.340163  1.773209  0.379780 -0.503198  1.800499  0.791461   \n",
              "3   1.0 -0.966272 -0.185226  1.792993 -0.863291 -0.010309  1.247203  0.237609   \n",
              "4   2.0 -1.158233  0.877737  1.548718  0.403034 -0.407193  0.095921  0.592941   \n",
              "\n",
              "         V8        V9  ...       V21       V22       V23       V24       V25  \\\n",
              "0  0.098698  0.363787  ... -0.018307  0.277838 -0.110474  0.066928  0.128539   \n",
              "1  0.085102 -0.255425  ... -0.225775 -0.638672  0.101288 -0.339846  0.167170   \n",
              "2  0.247676 -1.514654  ...  0.247998  0.771679  0.909412 -0.689281 -0.327642   \n",
              "3  0.377436 -1.387024  ... -0.108300  0.005274 -0.190321 -1.175575  0.647376   \n",
              "4 -0.270533  0.817739  ... -0.009431  0.798278 -0.137458  0.141267 -0.206010   \n",
              "\n",
              "        V26       V27       V28  Amount  Class  \n",
              "0 -0.189115  0.133558 -0.021053  149.62      0  \n",
              "1  0.125895 -0.008983  0.014724    2.69      0  \n",
              "2 -0.139097 -0.055353 -0.059752  378.66      0  \n",
              "3 -0.221929  0.062723  0.061458  123.50      0  \n",
              "4  0.502292  0.219422  0.215153   69.99      0  \n",
              "\n",
              "[5 rows x 31 columns]"
            ]
          },
          "execution_count": 4,
          "metadata": {},
          "output_type": "execute_result"
        }
      ],
      "source": [
        "dt.head()"
      ]
    },
    {
      "cell_type": "markdown",
      "id": "prompt-sphere",
      "metadata": {
        "id": "prompt-sphere"
      },
      "source": [
        "### Rapport Résumé avec Pandas-Profiling\n",
        "<a id=\"pp\"></a>"
      ]
    },
    {
      "cell_type": "code",
      "execution_count": 5,
      "id": "liked-directory",
      "metadata": {
        "id": "liked-directory"
      },
      "outputs": [],
      "source": [
        "# from pandas_profiling import profile_report# permet de faire l'analyse exploratoire des données\n",
        "# dt_report=dt.profile_report()\n",
        "# dt_report"
      ]
    },
    {
      "cell_type": "code",
      "execution_count": 6,
      "id": "incorporated-vertex",
      "metadata": {
        "colab": {
          "base_uri": "https://localhost:8080/",
          "height": 1000
        },
        "id": "incorporated-vertex",
        "outputId": "4ed9e58f-4c5b-4ed4-a578-2bf4522d62ef"
      },
      "outputs": [],
      "source": [
        "#dt.describe().T"
      ]
    },
    {
      "cell_type": "markdown",
      "id": "greek-suspect",
      "metadata": {
        "id": "greek-suspect"
      },
      "source": [
        "## Visualisation\n",
        "<a id=\"1\"></a>"
      ]
    },
    {
      "cell_type": "markdown",
      "id": "heard-vegetation",
      "metadata": {
        "id": "heard-vegetation"
      },
      "source": [
        "### Matrices de Correlation  \n",
        "<a id=\"2\"></a>\n",
        "\n",
        "La représentation des matrices de corrélation est une étape inspensable à la compréhension de nos données. Nous voulons savoir s'il existe des caractéristiques qui influencent le plus sur le fait qu'une transaction soit une fraude ou non.\n"
      ]
    },
    {
      "cell_type": "code",
      "execution_count": 7,
      "id": "defined-combining",
      "metadata": {
        "id": "defined-combining",
        "scrolled": true
      },
      "outputs": [],
      "source": [
        "mat_cor = dt.corr().round(decimals=2)\n"
      ]
    },
    {
      "cell_type": "code",
      "execution_count": 8,
      "id": "assisted-immunology",
      "metadata": {
        "colab": {
          "base_uri": "https://localhost:8080/",
          "height": 719
        },
        "id": "assisted-immunology",
        "outputId": "41491e28-553a-4e92-df97-4d482869bb77"
      },
      "outputs": [],
      "source": [
        "# plt.figure(figsize=(24, 20))\n",
        "# f, (ax1) = plt.subplots(1, 1, figsize=(15,10))\n",
        "# sns.heatmap(mat_cor, annot_kws={'size':50}, ax=ax1)\n",
        "# ax1.set_title(\"Matrice de Correlation \\n\", fontsize=10)"
      ]
    },
    {
      "cell_type": "markdown",
      "id": "sonic-special",
      "metadata": {
        "id": "sonic-special"
      },
      "source": [
        "**V17, V14, V12, V10 et V7 sont négativement correlées avec la variable Classe. Or plus ces valeurs sont faibles, plus le résultat final est susceptible d'être une transaction frauduleuse. Aussi V2, V4, V10, V11 et V19 sont correlées positivement avec la variable Class. Et plus ces valeurs sont deviennent grandes plus, plus plus il y a de chances pour que le résultat soit une transaction frauduleuse.**"
      ]
    },
    {
      "cell_type": "markdown",
      "id": "primary-magnitude",
      "metadata": {
        "id": "primary-magnitude"
      },
      "source": [
        "## Test des Modèles\n",
        "<a id=\"3\"></a>"
      ]
    },
    {
      "cell_type": "code",
      "execution_count": 9,
      "id": "treated-short",
      "metadata": {
        "colab": {
          "base_uri": "https://localhost:8080/"
        },
        "id": "treated-short",
        "outputId": "b2446d9e-4a6c-4826-a5bf-c5edbff4e317"
      },
      "outputs": [
        {
          "name": "stdout",
          "output_type": "stream",
          "text": [
            "            Time         V1         V2        V3        V4        V5  \\\n",
            "0            0.0  -1.359807  -0.072781  2.536347  1.378155 -0.338321   \n",
            "1            0.0   1.191857   0.266151  0.166480  0.448154  0.060018   \n",
            "2            1.0  -1.358354  -1.340163  1.773209  0.379780 -0.503198   \n",
            "3            1.0  -0.966272  -0.185226  1.792993 -0.863291 -0.010309   \n",
            "4            2.0  -1.158233   0.877737  1.548718  0.403034 -0.407193   \n",
            "...          ...        ...        ...       ...       ...       ...   \n",
            "284802  172786.0 -11.881118  10.071785 -9.834783 -2.066656 -5.364473   \n",
            "284803  172787.0  -0.732789  -0.055080  2.035030 -0.738589  0.868229   \n",
            "284804  172788.0   1.919565  -0.301254 -3.249640 -0.557828  2.630515   \n",
            "284805  172788.0  -0.240440   0.530483  0.702510  0.689799 -0.377961   \n",
            "284806  172792.0  -0.533413  -0.189733  0.703337 -0.506271 -0.012546   \n",
            "\n",
            "              V6        V7        V8        V9  ...       V20       V21  \\\n",
            "0       0.462388  0.239599  0.098698  0.363787  ...  0.251412 -0.018307   \n",
            "1      -0.082361 -0.078803  0.085102 -0.255425  ... -0.069083 -0.225775   \n",
            "2       1.800499  0.791461  0.247676 -1.514654  ...  0.524980  0.247998   \n",
            "3       1.247203  0.237609  0.377436 -1.387024  ... -0.208038 -0.108300   \n",
            "4       0.095921  0.592941 -0.270533  0.817739  ...  0.408542 -0.009431   \n",
            "...          ...       ...       ...       ...  ...       ...       ...   \n",
            "284802 -2.606837 -4.918215  7.305334  1.914428  ...  1.475829  0.213454   \n",
            "284803  1.058415  0.024330  0.294869  0.584800  ...  0.059616  0.214205   \n",
            "284804  3.031260 -0.296827  0.708417  0.432454  ...  0.001396  0.232045   \n",
            "284805  0.623708 -0.686180  0.679145  0.392087  ...  0.127434  0.265245   \n",
            "284806 -0.649617  1.577006 -0.414650  0.486180  ...  0.382948  0.261057   \n",
            "\n",
            "             V22       V23       V24       V25       V26       V27       V28  \\\n",
            "0       0.277838 -0.110474  0.066928  0.128539 -0.189115  0.133558 -0.021053   \n",
            "1      -0.638672  0.101288 -0.339846  0.167170  0.125895 -0.008983  0.014724   \n",
            "2       0.771679  0.909412 -0.689281 -0.327642 -0.139097 -0.055353 -0.059752   \n",
            "3       0.005274 -0.190321 -1.175575  0.647376 -0.221929  0.062723  0.061458   \n",
            "4       0.798278 -0.137458  0.141267 -0.206010  0.502292  0.219422  0.215153   \n",
            "...          ...       ...       ...       ...       ...       ...       ...   \n",
            "284802  0.111864  1.014480 -0.509348  1.436807  0.250034  0.943651  0.823731   \n",
            "284803  0.924384  0.012463 -1.016226 -0.606624 -0.395255  0.068472 -0.053527   \n",
            "284804  0.578229 -0.037501  0.640134  0.265745 -0.087371  0.004455 -0.026561   \n",
            "284805  0.800049 -0.163298  0.123205 -0.569159  0.546668  0.108821  0.104533   \n",
            "284806  0.643078  0.376777  0.008797 -0.473649 -0.818267 -0.002415  0.013649   \n",
            "\n",
            "        Amount  \n",
            "0       149.62  \n",
            "1         2.69  \n",
            "2       378.66  \n",
            "3       123.50  \n",
            "4        69.99  \n",
            "...        ...  \n",
            "284802    0.77  \n",
            "284803   24.79  \n",
            "284804   67.88  \n",
            "284805   10.00  \n",
            "284806  217.00  \n",
            "\n",
            "[284807 rows x 30 columns]\n",
            "        Class\n",
            "0           0\n",
            "1           0\n",
            "2           0\n",
            "3           0\n",
            "4           0\n",
            "...       ...\n",
            "284802      0\n",
            "284803      0\n",
            "284804      0\n",
            "284805      0\n",
            "284806      0\n",
            "\n",
            "[284807 rows x 1 columns]\n"
          ]
        },
        {
          "data": {
            "text/plain": [
              "(None, None)"
            ]
          },
          "execution_count": 9,
          "metadata": {},
          "output_type": "execute_result"
        }
      ],
      "source": [
        "# Séparation des features et du Target\n",
        "feature = dt.iloc[:, 0:30].columns\n",
        "ft = dt[feature]\n",
        "target = dt.iloc[:1, 30: ].columns\n",
        "tg = dt[target]\n",
        "print(ft),print(tg)"
      ]
    },
    {
      "cell_type": "code",
      "execution_count": 10,
      "id": "brief-angola",
      "metadata": {
        "colab": {
          "base_uri": "https://localhost:8080/"
        },
        "id": "brief-angola",
        "outputId": "528c5f15-758d-4bd3-d619-6c78328eb3c5"
      },
      "outputs": [
        {
          "data": {
            "text/plain": [
              "Class\n",
              "0        284315\n",
              "1           492\n",
              "dtype: int64"
            ]
          },
          "execution_count": 10,
          "metadata": {},
          "output_type": "execute_result"
        }
      ],
      "source": [
        "tg.value_counts()"
      ]
    },
    {
      "cell_type": "code",
      "execution_count": 11,
      "id": "little-reflection",
      "metadata": {
        "id": "little-reflection"
      },
      "outputs": [],
      "source": [
        "# Split de nos données\n",
        "from sklearn.model_selection import train_test_split\n",
        "X_train,X_test,y_train,y_test=train_test_split(ft,tg,test_size=0.2,random_state=42)"
      ]
    },
    {
      "cell_type": "markdown",
      "id": "Ftd_K6q9EyoN",
      "metadata": {
        "id": "Ftd_K6q9EyoN"
      },
      "source": [
        "## PREPROCESSING\n",
        "<a id=\"10\"></a>"
      ]
    },
    {
      "cell_type": "markdown",
      "id": "X1WdFPq8EyoN",
      "metadata": {
        "id": "X1WdFPq8EyoN"
      },
      "source": [
        "## Séparation et Visualisation\n",
        "<a id=\"11\"></a>"
      ]
    },
    {
      "cell_type": "code",
      "execution_count": 12,
      "id": "6qEajTRIEyoN",
      "metadata": {
        "id": "6qEajTRIEyoN"
      },
      "outputs": [
        {
          "data": {
            "text/html": [
              "<div>\n",
              "<style scoped>\n",
              "    .dataframe tbody tr th:only-of-type {\n",
              "        vertical-align: middle;\n",
              "    }\n",
              "\n",
              "    .dataframe tbody tr th {\n",
              "        vertical-align: top;\n",
              "    }\n",
              "\n",
              "    .dataframe thead th {\n",
              "        text-align: right;\n",
              "    }\n",
              "</style>\n",
              "<table border=\"1\" class=\"dataframe\">\n",
              "  <thead>\n",
              "    <tr style=\"text-align: right;\">\n",
              "      <th></th>\n",
              "      <th>Time</th>\n",
              "      <th>V1</th>\n",
              "      <th>V2</th>\n",
              "      <th>V3</th>\n",
              "      <th>V4</th>\n",
              "      <th>V5</th>\n",
              "      <th>V6</th>\n",
              "      <th>V7</th>\n",
              "      <th>V8</th>\n",
              "      <th>V9</th>\n",
              "      <th>...</th>\n",
              "      <th>V20</th>\n",
              "      <th>V21</th>\n",
              "      <th>V22</th>\n",
              "      <th>V23</th>\n",
              "      <th>V24</th>\n",
              "      <th>V25</th>\n",
              "      <th>V26</th>\n",
              "      <th>V27</th>\n",
              "      <th>V28</th>\n",
              "      <th>Amount</th>\n",
              "    </tr>\n",
              "  </thead>\n",
              "  <tbody>\n",
              "    <tr>\n",
              "      <th>0</th>\n",
              "      <td>0.0</td>\n",
              "      <td>-1.359807</td>\n",
              "      <td>-0.072781</td>\n",
              "      <td>2.536347</td>\n",
              "      <td>1.378155</td>\n",
              "      <td>-0.338321</td>\n",
              "      <td>0.462388</td>\n",
              "      <td>0.239599</td>\n",
              "      <td>0.098698</td>\n",
              "      <td>0.363787</td>\n",
              "      <td>...</td>\n",
              "      <td>0.251412</td>\n",
              "      <td>-0.018307</td>\n",
              "      <td>0.277838</td>\n",
              "      <td>-0.110474</td>\n",
              "      <td>0.066928</td>\n",
              "      <td>0.128539</td>\n",
              "      <td>-0.189115</td>\n",
              "      <td>0.133558</td>\n",
              "      <td>-0.021053</td>\n",
              "      <td>149.62</td>\n",
              "    </tr>\n",
              "    <tr>\n",
              "      <th>1</th>\n",
              "      <td>0.0</td>\n",
              "      <td>1.191857</td>\n",
              "      <td>0.266151</td>\n",
              "      <td>0.166480</td>\n",
              "      <td>0.448154</td>\n",
              "      <td>0.060018</td>\n",
              "      <td>-0.082361</td>\n",
              "      <td>-0.078803</td>\n",
              "      <td>0.085102</td>\n",
              "      <td>-0.255425</td>\n",
              "      <td>...</td>\n",
              "      <td>-0.069083</td>\n",
              "      <td>-0.225775</td>\n",
              "      <td>-0.638672</td>\n",
              "      <td>0.101288</td>\n",
              "      <td>-0.339846</td>\n",
              "      <td>0.167170</td>\n",
              "      <td>0.125895</td>\n",
              "      <td>-0.008983</td>\n",
              "      <td>0.014724</td>\n",
              "      <td>2.69</td>\n",
              "    </tr>\n",
              "    <tr>\n",
              "      <th>2</th>\n",
              "      <td>1.0</td>\n",
              "      <td>-1.358354</td>\n",
              "      <td>-1.340163</td>\n",
              "      <td>1.773209</td>\n",
              "      <td>0.379780</td>\n",
              "      <td>-0.503198</td>\n",
              "      <td>1.800499</td>\n",
              "      <td>0.791461</td>\n",
              "      <td>0.247676</td>\n",
              "      <td>-1.514654</td>\n",
              "      <td>...</td>\n",
              "      <td>0.524980</td>\n",
              "      <td>0.247998</td>\n",
              "      <td>0.771679</td>\n",
              "      <td>0.909412</td>\n",
              "      <td>-0.689281</td>\n",
              "      <td>-0.327642</td>\n",
              "      <td>-0.139097</td>\n",
              "      <td>-0.055353</td>\n",
              "      <td>-0.059752</td>\n",
              "      <td>378.66</td>\n",
              "    </tr>\n",
              "    <tr>\n",
              "      <th>3</th>\n",
              "      <td>1.0</td>\n",
              "      <td>-0.966272</td>\n",
              "      <td>-0.185226</td>\n",
              "      <td>1.792993</td>\n",
              "      <td>-0.863291</td>\n",
              "      <td>-0.010309</td>\n",
              "      <td>1.247203</td>\n",
              "      <td>0.237609</td>\n",
              "      <td>0.377436</td>\n",
              "      <td>-1.387024</td>\n",
              "      <td>...</td>\n",
              "      <td>-0.208038</td>\n",
              "      <td>-0.108300</td>\n",
              "      <td>0.005274</td>\n",
              "      <td>-0.190321</td>\n",
              "      <td>-1.175575</td>\n",
              "      <td>0.647376</td>\n",
              "      <td>-0.221929</td>\n",
              "      <td>0.062723</td>\n",
              "      <td>0.061458</td>\n",
              "      <td>123.50</td>\n",
              "    </tr>\n",
              "    <tr>\n",
              "      <th>4</th>\n",
              "      <td>2.0</td>\n",
              "      <td>-1.158233</td>\n",
              "      <td>0.877737</td>\n",
              "      <td>1.548718</td>\n",
              "      <td>0.403034</td>\n",
              "      <td>-0.407193</td>\n",
              "      <td>0.095921</td>\n",
              "      <td>0.592941</td>\n",
              "      <td>-0.270533</td>\n",
              "      <td>0.817739</td>\n",
              "      <td>...</td>\n",
              "      <td>0.408542</td>\n",
              "      <td>-0.009431</td>\n",
              "      <td>0.798278</td>\n",
              "      <td>-0.137458</td>\n",
              "      <td>0.141267</td>\n",
              "      <td>-0.206010</td>\n",
              "      <td>0.502292</td>\n",
              "      <td>0.219422</td>\n",
              "      <td>0.215153</td>\n",
              "      <td>69.99</td>\n",
              "    </tr>\n",
              "    <tr>\n",
              "      <th>...</th>\n",
              "      <td>...</td>\n",
              "      <td>...</td>\n",
              "      <td>...</td>\n",
              "      <td>...</td>\n",
              "      <td>...</td>\n",
              "      <td>...</td>\n",
              "      <td>...</td>\n",
              "      <td>...</td>\n",
              "      <td>...</td>\n",
              "      <td>...</td>\n",
              "      <td>...</td>\n",
              "      <td>...</td>\n",
              "      <td>...</td>\n",
              "      <td>...</td>\n",
              "      <td>...</td>\n",
              "      <td>...</td>\n",
              "      <td>...</td>\n",
              "      <td>...</td>\n",
              "      <td>...</td>\n",
              "      <td>...</td>\n",
              "      <td>...</td>\n",
              "    </tr>\n",
              "    <tr>\n",
              "      <th>284802</th>\n",
              "      <td>172786.0</td>\n",
              "      <td>-11.881118</td>\n",
              "      <td>10.071785</td>\n",
              "      <td>-9.834783</td>\n",
              "      <td>-2.066656</td>\n",
              "      <td>-5.364473</td>\n",
              "      <td>-2.606837</td>\n",
              "      <td>-4.918215</td>\n",
              "      <td>7.305334</td>\n",
              "      <td>1.914428</td>\n",
              "      <td>...</td>\n",
              "      <td>1.475829</td>\n",
              "      <td>0.213454</td>\n",
              "      <td>0.111864</td>\n",
              "      <td>1.014480</td>\n",
              "      <td>-0.509348</td>\n",
              "      <td>1.436807</td>\n",
              "      <td>0.250034</td>\n",
              "      <td>0.943651</td>\n",
              "      <td>0.823731</td>\n",
              "      <td>0.77</td>\n",
              "    </tr>\n",
              "    <tr>\n",
              "      <th>284803</th>\n",
              "      <td>172787.0</td>\n",
              "      <td>-0.732789</td>\n",
              "      <td>-0.055080</td>\n",
              "      <td>2.035030</td>\n",
              "      <td>-0.738589</td>\n",
              "      <td>0.868229</td>\n",
              "      <td>1.058415</td>\n",
              "      <td>0.024330</td>\n",
              "      <td>0.294869</td>\n",
              "      <td>0.584800</td>\n",
              "      <td>...</td>\n",
              "      <td>0.059616</td>\n",
              "      <td>0.214205</td>\n",
              "      <td>0.924384</td>\n",
              "      <td>0.012463</td>\n",
              "      <td>-1.016226</td>\n",
              "      <td>-0.606624</td>\n",
              "      <td>-0.395255</td>\n",
              "      <td>0.068472</td>\n",
              "      <td>-0.053527</td>\n",
              "      <td>24.79</td>\n",
              "    </tr>\n",
              "    <tr>\n",
              "      <th>284804</th>\n",
              "      <td>172788.0</td>\n",
              "      <td>1.919565</td>\n",
              "      <td>-0.301254</td>\n",
              "      <td>-3.249640</td>\n",
              "      <td>-0.557828</td>\n",
              "      <td>2.630515</td>\n",
              "      <td>3.031260</td>\n",
              "      <td>-0.296827</td>\n",
              "      <td>0.708417</td>\n",
              "      <td>0.432454</td>\n",
              "      <td>...</td>\n",
              "      <td>0.001396</td>\n",
              "      <td>0.232045</td>\n",
              "      <td>0.578229</td>\n",
              "      <td>-0.037501</td>\n",
              "      <td>0.640134</td>\n",
              "      <td>0.265745</td>\n",
              "      <td>-0.087371</td>\n",
              "      <td>0.004455</td>\n",
              "      <td>-0.026561</td>\n",
              "      <td>67.88</td>\n",
              "    </tr>\n",
              "    <tr>\n",
              "      <th>284805</th>\n",
              "      <td>172788.0</td>\n",
              "      <td>-0.240440</td>\n",
              "      <td>0.530483</td>\n",
              "      <td>0.702510</td>\n",
              "      <td>0.689799</td>\n",
              "      <td>-0.377961</td>\n",
              "      <td>0.623708</td>\n",
              "      <td>-0.686180</td>\n",
              "      <td>0.679145</td>\n",
              "      <td>0.392087</td>\n",
              "      <td>...</td>\n",
              "      <td>0.127434</td>\n",
              "      <td>0.265245</td>\n",
              "      <td>0.800049</td>\n",
              "      <td>-0.163298</td>\n",
              "      <td>0.123205</td>\n",
              "      <td>-0.569159</td>\n",
              "      <td>0.546668</td>\n",
              "      <td>0.108821</td>\n",
              "      <td>0.104533</td>\n",
              "      <td>10.00</td>\n",
              "    </tr>\n",
              "    <tr>\n",
              "      <th>284806</th>\n",
              "      <td>172792.0</td>\n",
              "      <td>-0.533413</td>\n",
              "      <td>-0.189733</td>\n",
              "      <td>0.703337</td>\n",
              "      <td>-0.506271</td>\n",
              "      <td>-0.012546</td>\n",
              "      <td>-0.649617</td>\n",
              "      <td>1.577006</td>\n",
              "      <td>-0.414650</td>\n",
              "      <td>0.486180</td>\n",
              "      <td>...</td>\n",
              "      <td>0.382948</td>\n",
              "      <td>0.261057</td>\n",
              "      <td>0.643078</td>\n",
              "      <td>0.376777</td>\n",
              "      <td>0.008797</td>\n",
              "      <td>-0.473649</td>\n",
              "      <td>-0.818267</td>\n",
              "      <td>-0.002415</td>\n",
              "      <td>0.013649</td>\n",
              "      <td>217.00</td>\n",
              "    </tr>\n",
              "  </tbody>\n",
              "</table>\n",
              "<p>284807 rows × 30 columns</p>\n",
              "</div>"
            ],
            "text/plain": [
              "            Time         V1         V2        V3        V4        V5  \\\n",
              "0            0.0  -1.359807  -0.072781  2.536347  1.378155 -0.338321   \n",
              "1            0.0   1.191857   0.266151  0.166480  0.448154  0.060018   \n",
              "2            1.0  -1.358354  -1.340163  1.773209  0.379780 -0.503198   \n",
              "3            1.0  -0.966272  -0.185226  1.792993 -0.863291 -0.010309   \n",
              "4            2.0  -1.158233   0.877737  1.548718  0.403034 -0.407193   \n",
              "...          ...        ...        ...       ...       ...       ...   \n",
              "284802  172786.0 -11.881118  10.071785 -9.834783 -2.066656 -5.364473   \n",
              "284803  172787.0  -0.732789  -0.055080  2.035030 -0.738589  0.868229   \n",
              "284804  172788.0   1.919565  -0.301254 -3.249640 -0.557828  2.630515   \n",
              "284805  172788.0  -0.240440   0.530483  0.702510  0.689799 -0.377961   \n",
              "284806  172792.0  -0.533413  -0.189733  0.703337 -0.506271 -0.012546   \n",
              "\n",
              "              V6        V7        V8        V9  ...       V20       V21  \\\n",
              "0       0.462388  0.239599  0.098698  0.363787  ...  0.251412 -0.018307   \n",
              "1      -0.082361 -0.078803  0.085102 -0.255425  ... -0.069083 -0.225775   \n",
              "2       1.800499  0.791461  0.247676 -1.514654  ...  0.524980  0.247998   \n",
              "3       1.247203  0.237609  0.377436 -1.387024  ... -0.208038 -0.108300   \n",
              "4       0.095921  0.592941 -0.270533  0.817739  ...  0.408542 -0.009431   \n",
              "...          ...       ...       ...       ...  ...       ...       ...   \n",
              "284802 -2.606837 -4.918215  7.305334  1.914428  ...  1.475829  0.213454   \n",
              "284803  1.058415  0.024330  0.294869  0.584800  ...  0.059616  0.214205   \n",
              "284804  3.031260 -0.296827  0.708417  0.432454  ...  0.001396  0.232045   \n",
              "284805  0.623708 -0.686180  0.679145  0.392087  ...  0.127434  0.265245   \n",
              "284806 -0.649617  1.577006 -0.414650  0.486180  ...  0.382948  0.261057   \n",
              "\n",
              "             V22       V23       V24       V25       V26       V27       V28  \\\n",
              "0       0.277838 -0.110474  0.066928  0.128539 -0.189115  0.133558 -0.021053   \n",
              "1      -0.638672  0.101288 -0.339846  0.167170  0.125895 -0.008983  0.014724   \n",
              "2       0.771679  0.909412 -0.689281 -0.327642 -0.139097 -0.055353 -0.059752   \n",
              "3       0.005274 -0.190321 -1.175575  0.647376 -0.221929  0.062723  0.061458   \n",
              "4       0.798278 -0.137458  0.141267 -0.206010  0.502292  0.219422  0.215153   \n",
              "...          ...       ...       ...       ...       ...       ...       ...   \n",
              "284802  0.111864  1.014480 -0.509348  1.436807  0.250034  0.943651  0.823731   \n",
              "284803  0.924384  0.012463 -1.016226 -0.606624 -0.395255  0.068472 -0.053527   \n",
              "284804  0.578229 -0.037501  0.640134  0.265745 -0.087371  0.004455 -0.026561   \n",
              "284805  0.800049 -0.163298  0.123205 -0.569159  0.546668  0.108821  0.104533   \n",
              "284806  0.643078  0.376777  0.008797 -0.473649 -0.818267 -0.002415  0.013649   \n",
              "\n",
              "        Amount  \n",
              "0       149.62  \n",
              "1         2.69  \n",
              "2       378.66  \n",
              "3       123.50  \n",
              "4        69.99  \n",
              "...        ...  \n",
              "284802    0.77  \n",
              "284803   24.79  \n",
              "284804   67.88  \n",
              "284805   10.00  \n",
              "284806  217.00  \n",
              "\n",
              "[284807 rows x 30 columns]"
            ]
          },
          "execution_count": 12,
          "metadata": {},
          "output_type": "execute_result"
        }
      ],
      "source": [
        "# Separating feature and targer of the dataset\n",
        "feature = dt.iloc[:, 0:30].columns\n",
        "ft = dt[feature]\n",
        "ft"
      ]
    },
    {
      "cell_type": "code",
      "execution_count": 13,
      "id": "ambient-creator",
      "metadata": {
        "id": "ambient-creator"
      },
      "outputs": [
        {
          "data": {
            "text/html": [
              "<div>\n",
              "<style scoped>\n",
              "    .dataframe tbody tr th:only-of-type {\n",
              "        vertical-align: middle;\n",
              "    }\n",
              "\n",
              "    .dataframe tbody tr th {\n",
              "        vertical-align: top;\n",
              "    }\n",
              "\n",
              "    .dataframe thead th {\n",
              "        text-align: right;\n",
              "    }\n",
              "</style>\n",
              "<table border=\"1\" class=\"dataframe\">\n",
              "  <thead>\n",
              "    <tr style=\"text-align: right;\">\n",
              "      <th></th>\n",
              "      <th>Time</th>\n",
              "      <th>V1</th>\n",
              "      <th>V2</th>\n",
              "      <th>V3</th>\n",
              "      <th>V4</th>\n",
              "      <th>V5</th>\n",
              "      <th>V6</th>\n",
              "      <th>V7</th>\n",
              "      <th>V8</th>\n",
              "      <th>V9</th>\n",
              "      <th>...</th>\n",
              "      <th>V20</th>\n",
              "      <th>V21</th>\n",
              "      <th>V22</th>\n",
              "      <th>V23</th>\n",
              "      <th>V24</th>\n",
              "      <th>V25</th>\n",
              "      <th>V26</th>\n",
              "      <th>V27</th>\n",
              "      <th>V28</th>\n",
              "      <th>Amount</th>\n",
              "    </tr>\n",
              "  </thead>\n",
              "  <tbody>\n",
              "    <tr>\n",
              "      <th>count</th>\n",
              "      <td>284807.000000</td>\n",
              "      <td>2.848070e+05</td>\n",
              "      <td>2.848070e+05</td>\n",
              "      <td>2.848070e+05</td>\n",
              "      <td>2.848070e+05</td>\n",
              "      <td>2.848070e+05</td>\n",
              "      <td>2.848070e+05</td>\n",
              "      <td>2.848070e+05</td>\n",
              "      <td>2.848070e+05</td>\n",
              "      <td>2.848070e+05</td>\n",
              "      <td>...</td>\n",
              "      <td>2.848070e+05</td>\n",
              "      <td>2.848070e+05</td>\n",
              "      <td>2.848070e+05</td>\n",
              "      <td>2.848070e+05</td>\n",
              "      <td>2.848070e+05</td>\n",
              "      <td>2.848070e+05</td>\n",
              "      <td>2.848070e+05</td>\n",
              "      <td>2.848070e+05</td>\n",
              "      <td>2.848070e+05</td>\n",
              "      <td>284807.000000</td>\n",
              "    </tr>\n",
              "    <tr>\n",
              "      <th>mean</th>\n",
              "      <td>94813.859575</td>\n",
              "      <td>3.918649e-15</td>\n",
              "      <td>5.682686e-16</td>\n",
              "      <td>-8.761736e-15</td>\n",
              "      <td>2.811118e-15</td>\n",
              "      <td>-1.552103e-15</td>\n",
              "      <td>2.040130e-15</td>\n",
              "      <td>-1.698953e-15</td>\n",
              "      <td>-1.893285e-16</td>\n",
              "      <td>-3.147640e-15</td>\n",
              "      <td>...</td>\n",
              "      <td>5.126845e-16</td>\n",
              "      <td>1.473120e-16</td>\n",
              "      <td>8.042109e-16</td>\n",
              "      <td>5.282512e-16</td>\n",
              "      <td>4.456271e-15</td>\n",
              "      <td>1.426896e-15</td>\n",
              "      <td>1.701640e-15</td>\n",
              "      <td>-3.662252e-16</td>\n",
              "      <td>-1.217809e-16</td>\n",
              "      <td>88.349619</td>\n",
              "    </tr>\n",
              "    <tr>\n",
              "      <th>std</th>\n",
              "      <td>47488.145955</td>\n",
              "      <td>1.958696e+00</td>\n",
              "      <td>1.651309e+00</td>\n",
              "      <td>1.516255e+00</td>\n",
              "      <td>1.415869e+00</td>\n",
              "      <td>1.380247e+00</td>\n",
              "      <td>1.332271e+00</td>\n",
              "      <td>1.237094e+00</td>\n",
              "      <td>1.194353e+00</td>\n",
              "      <td>1.098632e+00</td>\n",
              "      <td>...</td>\n",
              "      <td>7.709250e-01</td>\n",
              "      <td>7.345240e-01</td>\n",
              "      <td>7.257016e-01</td>\n",
              "      <td>6.244603e-01</td>\n",
              "      <td>6.056471e-01</td>\n",
              "      <td>5.212781e-01</td>\n",
              "      <td>4.822270e-01</td>\n",
              "      <td>4.036325e-01</td>\n",
              "      <td>3.300833e-01</td>\n",
              "      <td>250.120109</td>\n",
              "    </tr>\n",
              "    <tr>\n",
              "      <th>min</th>\n",
              "      <td>0.000000</td>\n",
              "      <td>-5.640751e+01</td>\n",
              "      <td>-7.271573e+01</td>\n",
              "      <td>-4.832559e+01</td>\n",
              "      <td>-5.683171e+00</td>\n",
              "      <td>-1.137433e+02</td>\n",
              "      <td>-2.616051e+01</td>\n",
              "      <td>-4.355724e+01</td>\n",
              "      <td>-7.321672e+01</td>\n",
              "      <td>-1.343407e+01</td>\n",
              "      <td>...</td>\n",
              "      <td>-5.449772e+01</td>\n",
              "      <td>-3.483038e+01</td>\n",
              "      <td>-1.093314e+01</td>\n",
              "      <td>-4.480774e+01</td>\n",
              "      <td>-2.836627e+00</td>\n",
              "      <td>-1.029540e+01</td>\n",
              "      <td>-2.604551e+00</td>\n",
              "      <td>-2.256568e+01</td>\n",
              "      <td>-1.543008e+01</td>\n",
              "      <td>0.000000</td>\n",
              "    </tr>\n",
              "    <tr>\n",
              "      <th>25%</th>\n",
              "      <td>54201.500000</td>\n",
              "      <td>-9.203734e-01</td>\n",
              "      <td>-5.985499e-01</td>\n",
              "      <td>-8.903648e-01</td>\n",
              "      <td>-8.486401e-01</td>\n",
              "      <td>-6.915971e-01</td>\n",
              "      <td>-7.682956e-01</td>\n",
              "      <td>-5.540759e-01</td>\n",
              "      <td>-2.086297e-01</td>\n",
              "      <td>-6.430976e-01</td>\n",
              "      <td>...</td>\n",
              "      <td>-2.117214e-01</td>\n",
              "      <td>-2.283949e-01</td>\n",
              "      <td>-5.423504e-01</td>\n",
              "      <td>-1.618463e-01</td>\n",
              "      <td>-3.545861e-01</td>\n",
              "      <td>-3.171451e-01</td>\n",
              "      <td>-3.269839e-01</td>\n",
              "      <td>-7.083953e-02</td>\n",
              "      <td>-5.295979e-02</td>\n",
              "      <td>5.600000</td>\n",
              "    </tr>\n",
              "    <tr>\n",
              "      <th>50%</th>\n",
              "      <td>84692.000000</td>\n",
              "      <td>1.810880e-02</td>\n",
              "      <td>6.548556e-02</td>\n",
              "      <td>1.798463e-01</td>\n",
              "      <td>-1.984653e-02</td>\n",
              "      <td>-5.433583e-02</td>\n",
              "      <td>-2.741871e-01</td>\n",
              "      <td>4.010308e-02</td>\n",
              "      <td>2.235804e-02</td>\n",
              "      <td>-5.142873e-02</td>\n",
              "      <td>...</td>\n",
              "      <td>-6.248109e-02</td>\n",
              "      <td>-2.945017e-02</td>\n",
              "      <td>6.781943e-03</td>\n",
              "      <td>-1.119293e-02</td>\n",
              "      <td>4.097606e-02</td>\n",
              "      <td>1.659350e-02</td>\n",
              "      <td>-5.213911e-02</td>\n",
              "      <td>1.342146e-03</td>\n",
              "      <td>1.124383e-02</td>\n",
              "      <td>22.000000</td>\n",
              "    </tr>\n",
              "    <tr>\n",
              "      <th>75%</th>\n",
              "      <td>139320.500000</td>\n",
              "      <td>1.315642e+00</td>\n",
              "      <td>8.037239e-01</td>\n",
              "      <td>1.027196e+00</td>\n",
              "      <td>7.433413e-01</td>\n",
              "      <td>6.119264e-01</td>\n",
              "      <td>3.985649e-01</td>\n",
              "      <td>5.704361e-01</td>\n",
              "      <td>3.273459e-01</td>\n",
              "      <td>5.971390e-01</td>\n",
              "      <td>...</td>\n",
              "      <td>1.330408e-01</td>\n",
              "      <td>1.863772e-01</td>\n",
              "      <td>5.285536e-01</td>\n",
              "      <td>1.476421e-01</td>\n",
              "      <td>4.395266e-01</td>\n",
              "      <td>3.507156e-01</td>\n",
              "      <td>2.409522e-01</td>\n",
              "      <td>9.104512e-02</td>\n",
              "      <td>7.827995e-02</td>\n",
              "      <td>77.165000</td>\n",
              "    </tr>\n",
              "    <tr>\n",
              "      <th>max</th>\n",
              "      <td>172792.000000</td>\n",
              "      <td>2.454930e+00</td>\n",
              "      <td>2.205773e+01</td>\n",
              "      <td>9.382558e+00</td>\n",
              "      <td>1.687534e+01</td>\n",
              "      <td>3.480167e+01</td>\n",
              "      <td>7.330163e+01</td>\n",
              "      <td>1.205895e+02</td>\n",
              "      <td>2.000721e+01</td>\n",
              "      <td>1.559499e+01</td>\n",
              "      <td>...</td>\n",
              "      <td>3.942090e+01</td>\n",
              "      <td>2.720284e+01</td>\n",
              "      <td>1.050309e+01</td>\n",
              "      <td>2.252841e+01</td>\n",
              "      <td>4.584549e+00</td>\n",
              "      <td>7.519589e+00</td>\n",
              "      <td>3.517346e+00</td>\n",
              "      <td>3.161220e+01</td>\n",
              "      <td>3.384781e+01</td>\n",
              "      <td>25691.160000</td>\n",
              "    </tr>\n",
              "  </tbody>\n",
              "</table>\n",
              "<p>8 rows × 30 columns</p>\n",
              "</div>"
            ],
            "text/plain": [
              "                Time            V1            V2            V3            V4  \\\n",
              "count  284807.000000  2.848070e+05  2.848070e+05  2.848070e+05  2.848070e+05   \n",
              "mean    94813.859575  3.918649e-15  5.682686e-16 -8.761736e-15  2.811118e-15   \n",
              "std     47488.145955  1.958696e+00  1.651309e+00  1.516255e+00  1.415869e+00   \n",
              "min         0.000000 -5.640751e+01 -7.271573e+01 -4.832559e+01 -5.683171e+00   \n",
              "25%     54201.500000 -9.203734e-01 -5.985499e-01 -8.903648e-01 -8.486401e-01   \n",
              "50%     84692.000000  1.810880e-02  6.548556e-02  1.798463e-01 -1.984653e-02   \n",
              "75%    139320.500000  1.315642e+00  8.037239e-01  1.027196e+00  7.433413e-01   \n",
              "max    172792.000000  2.454930e+00  2.205773e+01  9.382558e+00  1.687534e+01   \n",
              "\n",
              "                 V5            V6            V7            V8            V9  \\\n",
              "count  2.848070e+05  2.848070e+05  2.848070e+05  2.848070e+05  2.848070e+05   \n",
              "mean  -1.552103e-15  2.040130e-15 -1.698953e-15 -1.893285e-16 -3.147640e-15   \n",
              "std    1.380247e+00  1.332271e+00  1.237094e+00  1.194353e+00  1.098632e+00   \n",
              "min   -1.137433e+02 -2.616051e+01 -4.355724e+01 -7.321672e+01 -1.343407e+01   \n",
              "25%   -6.915971e-01 -7.682956e-01 -5.540759e-01 -2.086297e-01 -6.430976e-01   \n",
              "50%   -5.433583e-02 -2.741871e-01  4.010308e-02  2.235804e-02 -5.142873e-02   \n",
              "75%    6.119264e-01  3.985649e-01  5.704361e-01  3.273459e-01  5.971390e-01   \n",
              "max    3.480167e+01  7.330163e+01  1.205895e+02  2.000721e+01  1.559499e+01   \n",
              "\n",
              "       ...           V20           V21           V22           V23  \\\n",
              "count  ...  2.848070e+05  2.848070e+05  2.848070e+05  2.848070e+05   \n",
              "mean   ...  5.126845e-16  1.473120e-16  8.042109e-16  5.282512e-16   \n",
              "std    ...  7.709250e-01  7.345240e-01  7.257016e-01  6.244603e-01   \n",
              "min    ... -5.449772e+01 -3.483038e+01 -1.093314e+01 -4.480774e+01   \n",
              "25%    ... -2.117214e-01 -2.283949e-01 -5.423504e-01 -1.618463e-01   \n",
              "50%    ... -6.248109e-02 -2.945017e-02  6.781943e-03 -1.119293e-02   \n",
              "75%    ...  1.330408e-01  1.863772e-01  5.285536e-01  1.476421e-01   \n",
              "max    ...  3.942090e+01  2.720284e+01  1.050309e+01  2.252841e+01   \n",
              "\n",
              "                V24           V25           V26           V27           V28  \\\n",
              "count  2.848070e+05  2.848070e+05  2.848070e+05  2.848070e+05  2.848070e+05   \n",
              "mean   4.456271e-15  1.426896e-15  1.701640e-15 -3.662252e-16 -1.217809e-16   \n",
              "std    6.056471e-01  5.212781e-01  4.822270e-01  4.036325e-01  3.300833e-01   \n",
              "min   -2.836627e+00 -1.029540e+01 -2.604551e+00 -2.256568e+01 -1.543008e+01   \n",
              "25%   -3.545861e-01 -3.171451e-01 -3.269839e-01 -7.083953e-02 -5.295979e-02   \n",
              "50%    4.097606e-02  1.659350e-02 -5.213911e-02  1.342146e-03  1.124383e-02   \n",
              "75%    4.395266e-01  3.507156e-01  2.409522e-01  9.104512e-02  7.827995e-02   \n",
              "max    4.584549e+00  7.519589e+00  3.517346e+00  3.161220e+01  3.384781e+01   \n",
              "\n",
              "              Amount  \n",
              "count  284807.000000  \n",
              "mean       88.349619  \n",
              "std       250.120109  \n",
              "min         0.000000  \n",
              "25%         5.600000  \n",
              "50%        22.000000  \n",
              "75%        77.165000  \n",
              "max     25691.160000  \n",
              "\n",
              "[8 rows x 30 columns]"
            ]
          },
          "execution_count": 13,
          "metadata": {},
          "output_type": "execute_result"
        }
      ],
      "source": [
        "ft.describe()"
      ]
    },
    {
      "cell_type": "code",
      "execution_count": 14,
      "id": "AWEwfd7bEyoP",
      "metadata": {
        "id": "AWEwfd7bEyoP"
      },
      "outputs": [
        {
          "data": {
            "text/html": [
              "<div>\n",
              "<style scoped>\n",
              "    .dataframe tbody tr th:only-of-type {\n",
              "        vertical-align: middle;\n",
              "    }\n",
              "\n",
              "    .dataframe tbody tr th {\n",
              "        vertical-align: top;\n",
              "    }\n",
              "\n",
              "    .dataframe thead th {\n",
              "        text-align: right;\n",
              "    }\n",
              "</style>\n",
              "<table border=\"1\" class=\"dataframe\">\n",
              "  <thead>\n",
              "    <tr style=\"text-align: right;\">\n",
              "      <th></th>\n",
              "      <th>Class</th>\n",
              "    </tr>\n",
              "  </thead>\n",
              "  <tbody>\n",
              "    <tr>\n",
              "      <th>0</th>\n",
              "      <td>0</td>\n",
              "    </tr>\n",
              "    <tr>\n",
              "      <th>1</th>\n",
              "      <td>0</td>\n",
              "    </tr>\n",
              "    <tr>\n",
              "      <th>2</th>\n",
              "      <td>0</td>\n",
              "    </tr>\n",
              "    <tr>\n",
              "      <th>3</th>\n",
              "      <td>0</td>\n",
              "    </tr>\n",
              "    <tr>\n",
              "      <th>4</th>\n",
              "      <td>0</td>\n",
              "    </tr>\n",
              "    <tr>\n",
              "      <th>...</th>\n",
              "      <td>...</td>\n",
              "    </tr>\n",
              "    <tr>\n",
              "      <th>284802</th>\n",
              "      <td>0</td>\n",
              "    </tr>\n",
              "    <tr>\n",
              "      <th>284803</th>\n",
              "      <td>0</td>\n",
              "    </tr>\n",
              "    <tr>\n",
              "      <th>284804</th>\n",
              "      <td>0</td>\n",
              "    </tr>\n",
              "    <tr>\n",
              "      <th>284805</th>\n",
              "      <td>0</td>\n",
              "    </tr>\n",
              "    <tr>\n",
              "      <th>284806</th>\n",
              "      <td>0</td>\n",
              "    </tr>\n",
              "  </tbody>\n",
              "</table>\n",
              "<p>284807 rows × 1 columns</p>\n",
              "</div>"
            ],
            "text/plain": [
              "        Class\n",
              "0           0\n",
              "1           0\n",
              "2           0\n",
              "3           0\n",
              "4           0\n",
              "...       ...\n",
              "284802      0\n",
              "284803      0\n",
              "284804      0\n",
              "284805      0\n",
              "284806      0\n",
              "\n",
              "[284807 rows x 1 columns]"
            ]
          },
          "execution_count": 14,
          "metadata": {},
          "output_type": "execute_result"
        }
      ],
      "source": [
        "target = dt.iloc[:1, 30: ].columns\n",
        "tg = dt[target]\n",
        "tg"
      ]
    },
    {
      "cell_type": "code",
      "execution_count": 15,
      "id": "LuocpxAzEyoQ",
      "metadata": {
        "id": "LuocpxAzEyoQ"
      },
      "outputs": [
        {
          "data": {
            "image/png": "[encoded data removed]",
            "text/plain": [
              "<Figure size 640x480 with 1 Axes>"
            ]
          },
          "metadata": {},
          "output_type": "display_data"
        }
      ],
      "source": [
        "# visualisation de la variable Class\n",
        "cl= sns.countplot(dt['Class'])\n",
        "cl.set_xticklabels(['Pas de Fraude','Fraude'])\n",
        "plt.show()"
      ]
    },
    {
      "cell_type": "code",
      "execution_count": 16,
      "id": "jGSdyeooEyoQ",
      "metadata": {
        "id": "jGSdyeooEyoQ"
      },
      "outputs": [
        {
          "name": "stdout",
          "output_type": "stream",
          "text": [
            "La taille des Fraudes:  (492, 31)\n",
            "La taille des  Pas-Fraudes:  (284315, 31)\n"
          ]
        }
      ],
      "source": [
        "# Séparation des Class==1 et class==0\n",
        "Fraude = dt[dt['Class']==1]\n",
        "\n",
        "Pas_Fraude = dt[dt['Class']==0]\n",
        "\n",
        "print('La taille des Fraudes: ',Fraude.shape)\n",
        "print('La taille des  Pas-Fraudes: ',Pas_Fraude.shape)"
      ]
    },
    {
      "cell_type": "markdown",
      "id": "IY0A7Z0zEyoR",
      "metadata": {
        "id": "IY0A7Z0zEyoR"
      },
      "source": [
        "## Scaling\n",
        "<a id=\"12\"></a>"
      ]
    },
    {
      "cell_type": "markdown",
      "id": "afraid-comedy",
      "metadata": {
        "id": "afraid-comedy"
      },
      "source": [
        "En lisant la matrice de Corrélation obtenue dans la section précedente, on peut envisager de 'Time' et 'Amount' afin de les amener au même echelle que les autres colonnes. Ainsi nous utiliserons \"RoustScaler\" de la librairie \"slearn.preprocessing\" parcequ'il est plus tolérant aux outliers"
      ]
    },
    {
      "cell_type": "code",
      "execution_count": 17,
      "id": "failing-rally",
      "metadata": {
        "id": "failing-rally"
      },
      "outputs": [],
      "source": [
        "from sklearn.preprocessing import RobustScaler\n",
        "sc=RobustScaler()\n",
        "X_train=sc.fit_transform(X_train)\n",
        "X_test= sc.fit_transform(X_test)"
      ]
    },
    {
      "cell_type": "markdown",
      "id": "TBrqDtUJEyoR",
      "metadata": {
        "id": "TBrqDtUJEyoR"
      },
      "source": [
        "# Sous-echantillonage\n",
        "<a id=\"18\"></a>\n"
      ]
    },
    {
      "cell_type": "code",
      "execution_count": 18,
      "id": "71e63ca7",
      "metadata": {},
      "outputs": [],
      "source": [
        "df = dt"
      ]
    },
    {
      "cell_type": "markdown",
      "id": "rHjB3kYgEyoS",
      "metadata": {
        "id": "rHjB3kYgEyoS"
      },
      "source": [
        "Dans cette partie nous essayons d'équilibrer les données de notre variable cible 'Class'.\n",
        " On utilisons Ainsi la méthode du sous-échantillonnage aléatoire ou 'Under-Sampling aléatoire\n",
        " L'objectif ici est de supprimer aléatoirement certaines observations de la classe majoritaire et de répéter l'opération jusqu'à ce que la classe majoritaire et minoritaire soit équilibrée.\n",
        "\n",
        "Le sous-échantillonnage peut être un bon choix lorsque nos donnéessont de taille importante. Mais son inconvénient est que parfois nous supprimons les informations qui peuvent être précieuses."
      ]
    },
    {
      "cell_type": "code",
      "execution_count": 19,
      "id": "3ivVrgilEyoS",
      "metadata": {
        "id": "3ivVrgilEyoS"
      },
      "outputs": [],
      "source": [
        "non_fraude = df[df[\"Class\"]==0]\n",
        "fraude=df[df[\"Class\"]==1]\n",
        "non_fraude.shape\n",
        "a=fraude.shape"
      ]
    },
    {
      "cell_type": "code",
      "execution_count": 20,
      "id": "australian-grounds",
      "metadata": {
        "id": "australian-grounds",
        "outputId": "0c09dc60-c141-4dea-a0a2-0f0c0fcf2553"
      },
      "outputs": [
        {
          "data": {
            "text/plain": [
              "(492, 31)"
            ]
          },
          "execution_count": 20,
          "metadata": {},
          "output_type": "execute_result"
        }
      ],
      "source": [
        "non_fraude = non_fraude.sample(fraude.shape[0])\n",
        "non_fraude.shape"
      ]
    },
    {
      "cell_type": "code",
      "execution_count": 21,
      "id": "cathedral-government",
      "metadata": {
        "id": "cathedral-government",
        "outputId": "7088efec-6a5d-48e0-c1a2-2c14897b3c83"
      },
      "outputs": [
        {
          "data": {
            "text/plain": [
              "(984, 31)"
            ]
          },
          "execution_count": 21,
          "metadata": {},
          "output_type": "execute_result"
        }
      ],
      "source": [
        "# Sous echantillage des données\n",
        "df_new= fraude.append(non_fraude ,ignore_index = True)\n",
        "df_new.shape"
      ]
    },
    {
      "cell_type": "code",
      "execution_count": 22,
      "id": "partial-village",
      "metadata": {
        "id": "partial-village",
        "outputId": "ef2d6a13-1460-4138-bb73-da38d7f005ab"
      },
      "outputs": [
        {
          "data": {
            "text/html": [
              "<div>\n",
              "<style scoped>\n",
              "    .dataframe tbody tr th:only-of-type {\n",
              "        vertical-align: middle;\n",
              "    }\n",
              "\n",
              "    .dataframe tbody tr th {\n",
              "        vertical-align: top;\n",
              "    }\n",
              "\n",
              "    .dataframe thead th {\n",
              "        text-align: right;\n",
              "    }\n",
              "</style>\n",
              "<table border=\"1\" class=\"dataframe\">\n",
              "  <thead>\n",
              "    <tr style=\"text-align: right;\">\n",
              "      <th></th>\n",
              "      <th>Time</th>\n",
              "      <th>V1</th>\n",
              "      <th>V2</th>\n",
              "      <th>V3</th>\n",
              "      <th>V4</th>\n",
              "      <th>V5</th>\n",
              "      <th>V6</th>\n",
              "      <th>V7</th>\n",
              "      <th>V8</th>\n",
              "      <th>V9</th>\n",
              "      <th>...</th>\n",
              "      <th>V20</th>\n",
              "      <th>V21</th>\n",
              "      <th>V22</th>\n",
              "      <th>V23</th>\n",
              "      <th>V24</th>\n",
              "      <th>V25</th>\n",
              "      <th>V26</th>\n",
              "      <th>V27</th>\n",
              "      <th>V28</th>\n",
              "      <th>Amount</th>\n",
              "    </tr>\n",
              "  </thead>\n",
              "  <tbody>\n",
              "    <tr>\n",
              "      <th>0</th>\n",
              "      <td>406.0</td>\n",
              "      <td>-2.312227</td>\n",
              "      <td>1.951992</td>\n",
              "      <td>-1.609851</td>\n",
              "      <td>3.997906</td>\n",
              "      <td>-0.522188</td>\n",
              "      <td>-1.426545</td>\n",
              "      <td>-2.537387</td>\n",
              "      <td>1.391657</td>\n",
              "      <td>-2.770089</td>\n",
              "      <td>...</td>\n",
              "      <td>0.126911</td>\n",
              "      <td>0.517232</td>\n",
              "      <td>-0.035049</td>\n",
              "      <td>-0.465211</td>\n",
              "      <td>0.320198</td>\n",
              "      <td>0.044519</td>\n",
              "      <td>0.177840</td>\n",
              "      <td>0.261145</td>\n",
              "      <td>-0.143276</td>\n",
              "      <td>0.00</td>\n",
              "    </tr>\n",
              "    <tr>\n",
              "      <th>1</th>\n",
              "      <td>472.0</td>\n",
              "      <td>-3.043541</td>\n",
              "      <td>-3.157307</td>\n",
              "      <td>1.088463</td>\n",
              "      <td>2.288644</td>\n",
              "      <td>1.359805</td>\n",
              "      <td>-1.064823</td>\n",
              "      <td>0.325574</td>\n",
              "      <td>-0.067794</td>\n",
              "      <td>-0.270953</td>\n",
              "      <td>...</td>\n",
              "      <td>2.102339</td>\n",
              "      <td>0.661696</td>\n",
              "      <td>0.435477</td>\n",
              "      <td>1.375966</td>\n",
              "      <td>-0.293803</td>\n",
              "      <td>0.279798</td>\n",
              "      <td>-0.145362</td>\n",
              "      <td>-0.252773</td>\n",
              "      <td>0.035764</td>\n",
              "      <td>529.00</td>\n",
              "    </tr>\n",
              "    <tr>\n",
              "      <th>2</th>\n",
              "      <td>4462.0</td>\n",
              "      <td>-2.303350</td>\n",
              "      <td>1.759247</td>\n",
              "      <td>-0.359745</td>\n",
              "      <td>2.330243</td>\n",
              "      <td>-0.821628</td>\n",
              "      <td>-0.075788</td>\n",
              "      <td>0.562320</td>\n",
              "      <td>-0.399147</td>\n",
              "      <td>-0.238253</td>\n",
              "      <td>...</td>\n",
              "      <td>-0.430022</td>\n",
              "      <td>-0.294166</td>\n",
              "      <td>-0.932391</td>\n",
              "      <td>0.172726</td>\n",
              "      <td>-0.087330</td>\n",
              "      <td>-0.156114</td>\n",
              "      <td>-0.542628</td>\n",
              "      <td>0.039566</td>\n",
              "      <td>-0.153029</td>\n",
              "      <td>239.93</td>\n",
              "    </tr>\n",
              "    <tr>\n",
              "      <th>3</th>\n",
              "      <td>6986.0</td>\n",
              "      <td>-4.397974</td>\n",
              "      <td>1.358367</td>\n",
              "      <td>-2.592844</td>\n",
              "      <td>2.679787</td>\n",
              "      <td>-1.128131</td>\n",
              "      <td>-1.706536</td>\n",
              "      <td>-3.496197</td>\n",
              "      <td>-0.248778</td>\n",
              "      <td>-0.247768</td>\n",
              "      <td>...</td>\n",
              "      <td>-0.171608</td>\n",
              "      <td>0.573574</td>\n",
              "      <td>0.176968</td>\n",
              "      <td>-0.436207</td>\n",
              "      <td>-0.053502</td>\n",
              "      <td>0.252405</td>\n",
              "      <td>-0.657488</td>\n",
              "      <td>-0.827136</td>\n",
              "      <td>0.849573</td>\n",
              "      <td>59.00</td>\n",
              "    </tr>\n",
              "    <tr>\n",
              "      <th>4</th>\n",
              "      <td>7519.0</td>\n",
              "      <td>1.234235</td>\n",
              "      <td>3.019740</td>\n",
              "      <td>-4.304597</td>\n",
              "      <td>4.732795</td>\n",
              "      <td>3.624201</td>\n",
              "      <td>-1.357746</td>\n",
              "      <td>1.713445</td>\n",
              "      <td>-0.496358</td>\n",
              "      <td>-1.282858</td>\n",
              "      <td>...</td>\n",
              "      <td>0.009061</td>\n",
              "      <td>-0.379068</td>\n",
              "      <td>-0.704181</td>\n",
              "      <td>-0.656805</td>\n",
              "      <td>-1.632653</td>\n",
              "      <td>1.488901</td>\n",
              "      <td>0.566797</td>\n",
              "      <td>-0.010016</td>\n",
              "      <td>0.146793</td>\n",
              "      <td>1.00</td>\n",
              "    </tr>\n",
              "    <tr>\n",
              "      <th>...</th>\n",
              "      <td>...</td>\n",
              "      <td>...</td>\n",
              "      <td>...</td>\n",
              "      <td>...</td>\n",
              "      <td>...</td>\n",
              "      <td>...</td>\n",
              "      <td>...</td>\n",
              "      <td>...</td>\n",
              "      <td>...</td>\n",
              "      <td>...</td>\n",
              "      <td>...</td>\n",
              "      <td>...</td>\n",
              "      <td>...</td>\n",
              "      <td>...</td>\n",
              "      <td>...</td>\n",
              "      <td>...</td>\n",
              "      <td>...</td>\n",
              "      <td>...</td>\n",
              "      <td>...</td>\n",
              "      <td>...</td>\n",
              "      <td>...</td>\n",
              "    </tr>\n",
              "    <tr>\n",
              "      <th>979</th>\n",
              "      <td>32709.0</td>\n",
              "      <td>0.983365</td>\n",
              "      <td>-0.103347</td>\n",
              "      <td>0.202949</td>\n",
              "      <td>1.267958</td>\n",
              "      <td>0.001655</td>\n",
              "      <td>0.359410</td>\n",
              "      <td>0.084214</td>\n",
              "      <td>0.117756</td>\n",
              "      <td>0.012759</td>\n",
              "      <td>...</td>\n",
              "      <td>0.014372</td>\n",
              "      <td>-0.018500</td>\n",
              "      <td>-0.030380</td>\n",
              "      <td>-0.191708</td>\n",
              "      <td>-0.290210</td>\n",
              "      <td>0.652748</td>\n",
              "      <td>-0.318941</td>\n",
              "      <td>0.021276</td>\n",
              "      <td>0.017413</td>\n",
              "      <td>92.00</td>\n",
              "    </tr>\n",
              "    <tr>\n",
              "      <th>980</th>\n",
              "      <td>9369.0</td>\n",
              "      <td>0.915012</td>\n",
              "      <td>-0.079906</td>\n",
              "      <td>0.448346</td>\n",
              "      <td>1.570747</td>\n",
              "      <td>-0.129422</td>\n",
              "      <td>0.223144</td>\n",
              "      <td>0.014704</td>\n",
              "      <td>0.023997</td>\n",
              "      <td>1.310127</td>\n",
              "      <td>...</td>\n",
              "      <td>-0.004475</td>\n",
              "      <td>-0.135305</td>\n",
              "      <td>-0.190221</td>\n",
              "      <td>-0.158736</td>\n",
              "      <td>-0.030639</td>\n",
              "      <td>0.568574</td>\n",
              "      <td>-0.379565</td>\n",
              "      <td>-0.011380</td>\n",
              "      <td>0.018121</td>\n",
              "      <td>117.00</td>\n",
              "    </tr>\n",
              "    <tr>\n",
              "      <th>981</th>\n",
              "      <td>87549.0</td>\n",
              "      <td>-2.810252</td>\n",
              "      <td>-3.296656</td>\n",
              "      <td>-0.098200</td>\n",
              "      <td>-2.009151</td>\n",
              "      <td>1.192710</td>\n",
              "      <td>0.380186</td>\n",
              "      <td>-0.683166</td>\n",
              "      <td>1.016874</td>\n",
              "      <td>-0.877135</td>\n",
              "      <td>...</td>\n",
              "      <td>0.982608</td>\n",
              "      <td>0.420132</td>\n",
              "      <td>-0.226777</td>\n",
              "      <td>0.814254</td>\n",
              "      <td>-1.693735</td>\n",
              "      <td>-0.959347</td>\n",
              "      <td>-0.800261</td>\n",
              "      <td>0.050430</td>\n",
              "      <td>-0.244918</td>\n",
              "      <td>283.86</td>\n",
              "    </tr>\n",
              "    <tr>\n",
              "      <th>982</th>\n",
              "      <td>45389.0</td>\n",
              "      <td>1.117734</td>\n",
              "      <td>-0.036619</td>\n",
              "      <td>0.402105</td>\n",
              "      <td>0.095383</td>\n",
              "      <td>-0.754428</td>\n",
              "      <td>-1.551740</td>\n",
              "      <td>0.346798</td>\n",
              "      <td>-0.363270</td>\n",
              "      <td>-0.047854</td>\n",
              "      <td>...</td>\n",
              "      <td>0.098985</td>\n",
              "      <td>-0.440521</td>\n",
              "      <td>-1.474965</td>\n",
              "      <td>0.281219</td>\n",
              "      <td>0.930597</td>\n",
              "      <td>-0.124620</td>\n",
              "      <td>0.503974</td>\n",
              "      <td>-0.103791</td>\n",
              "      <td>0.027229</td>\n",
              "      <td>79.70</td>\n",
              "    </tr>\n",
              "    <tr>\n",
              "      <th>983</th>\n",
              "      <td>800.0</td>\n",
              "      <td>1.256652</td>\n",
              "      <td>0.427519</td>\n",
              "      <td>0.327080</td>\n",
              "      <td>0.683805</td>\n",
              "      <td>-0.281307</td>\n",
              "      <td>-1.049116</td>\n",
              "      <td>0.156023</td>\n",
              "      <td>-0.261678</td>\n",
              "      <td>-0.121514</td>\n",
              "      <td>...</td>\n",
              "      <td>-0.015214</td>\n",
              "      <td>-0.275784</td>\n",
              "      <td>-0.746707</td>\n",
              "      <td>0.116999</td>\n",
              "      <td>0.373221</td>\n",
              "      <td>0.250407</td>\n",
              "      <td>0.090975</td>\n",
              "      <td>-0.016462</td>\n",
              "      <td>0.033042</td>\n",
              "      <td>1.98</td>\n",
              "    </tr>\n",
              "  </tbody>\n",
              "</table>\n",
              "<p>984 rows × 30 columns</p>\n",
              "</div>"
            ],
            "text/plain": [
              "        Time        V1        V2        V3        V4        V5        V6  \\\n",
              "0      406.0 -2.312227  1.951992 -1.609851  3.997906 -0.522188 -1.426545   \n",
              "1      472.0 -3.043541 -3.157307  1.088463  2.288644  1.359805 -1.064823   \n",
              "2     4462.0 -2.303350  1.759247 -0.359745  2.330243 -0.821628 -0.075788   \n",
              "3     6986.0 -4.397974  1.358367 -2.592844  2.679787 -1.128131 -1.706536   \n",
              "4     7519.0  1.234235  3.019740 -4.304597  4.732795  3.624201 -1.357746   \n",
              "..       ...       ...       ...       ...       ...       ...       ...   \n",
              "979  32709.0  0.983365 -0.103347  0.202949  1.267958  0.001655  0.359410   \n",
              "980   9369.0  0.915012 -0.079906  0.448346  1.570747 -0.129422  0.223144   \n",
              "981  87549.0 -2.810252 -3.296656 -0.098200 -2.009151  1.192710  0.380186   \n",
              "982  45389.0  1.117734 -0.036619  0.402105  0.095383 -0.754428 -1.551740   \n",
              "983    800.0  1.256652  0.427519  0.327080  0.683805 -0.281307 -1.049116   \n",
              "\n",
              "           V7        V8        V9  ...       V20       V21       V22  \\\n",
              "0   -2.537387  1.391657 -2.770089  ...  0.126911  0.517232 -0.035049   \n",
              "1    0.325574 -0.067794 -0.270953  ...  2.102339  0.661696  0.435477   \n",
              "2    0.562320 -0.399147 -0.238253  ... -0.430022 -0.294166 -0.932391   \n",
              "3   -3.496197 -0.248778 -0.247768  ... -0.171608  0.573574  0.176968   \n",
              "4    1.713445 -0.496358 -1.282858  ...  0.009061 -0.379068 -0.704181   \n",
              "..        ...       ...       ...  ...       ...       ...       ...   \n",
              "979  0.084214  0.117756  0.012759  ...  0.014372 -0.018500 -0.030380   \n",
              "980  0.014704  0.023997  1.310127  ... -0.004475 -0.135305 -0.190221   \n",
              "981 -0.683166  1.016874 -0.877135  ...  0.982608  0.420132 -0.226777   \n",
              "982  0.346798 -0.363270 -0.047854  ...  0.098985 -0.440521 -1.474965   \n",
              "983  0.156023 -0.261678 -0.121514  ... -0.015214 -0.275784 -0.746707   \n",
              "\n",
              "          V23       V24       V25       V26       V27       V28  Amount  \n",
              "0   -0.465211  0.320198  0.044519  0.177840  0.261145 -0.143276    0.00  \n",
              "1    1.375966 -0.293803  0.279798 -0.145362 -0.252773  0.035764  529.00  \n",
              "2    0.172726 -0.087330 -0.156114 -0.542628  0.039566 -0.153029  239.93  \n",
              "3   -0.436207 -0.053502  0.252405 -0.657488 -0.827136  0.849573   59.00  \n",
              "4   -0.656805 -1.632653  1.488901  0.566797 -0.010016  0.146793    1.00  \n",
              "..        ...       ...       ...       ...       ...       ...     ...  \n",
              "979 -0.191708 -0.290210  0.652748 -0.318941  0.021276  0.017413   92.00  \n",
              "980 -0.158736 -0.030639  0.568574 -0.379565 -0.011380  0.018121  117.00  \n",
              "981  0.814254 -1.693735 -0.959347 -0.800261  0.050430 -0.244918  283.86  \n",
              "982  0.281219  0.930597 -0.124620  0.503974 -0.103791  0.027229   79.70  \n",
              "983  0.116999  0.373221  0.250407  0.090975 -0.016462  0.033042    1.98  \n",
              "\n",
              "[984 rows x 30 columns]"
            ]
          },
          "execution_count": 22,
          "metadata": {},
          "output_type": "execute_result"
        }
      ],
      "source": [
        "Y_under = df_new['Class']\n",
        "X_under =df_new.iloc[:,:-1]\n",
        "X_under"
      ]
    },
    {
      "cell_type": "code",
      "execution_count": 23,
      "id": "agricultural-newfoundland",
      "metadata": {
        "id": "agricultural-newfoundland"
      },
      "outputs": [],
      "source": [
        "X_train_under, X_test_under, y_train_under, y_test_under=train_test_split(X_under,Y_under)"
      ]
    },
    {
      "cell_type": "markdown",
      "id": "automatic-lighter",
      "metadata": {
        "id": "automatic-lighter"
      },
      "source": [
        "## Normalisation de notre données d'entrainement\n",
        "<a id=\"19\"></a>"
      ]
    },
    {
      "cell_type": "code",
      "execution_count": 24,
      "id": "spoken-future",
      "metadata": {
        "id": "spoken-future"
      },
      "outputs": [],
      "source": [
        "scater= RobustScaler()\n",
        "X_train_under = scater.fit_transform(X_train_under)\n",
        "X_test_under = scater.fit_transform(X_test_under)"
      ]
    },
    {
      "cell_type": "markdown",
      "id": "efficient-infrastructure",
      "metadata": {
        "id": "efficient-infrastructure"
      },
      "source": [
        "## Application des modèles\n",
        "<a id=\"20\"></a>"
      ]
    },
    {
      "cell_type": "markdown",
      "id": "accepting-coach",
      "metadata": {
        "id": "accepting-coach"
      },
      "source": [
        "### Random  Forest\n",
        "<a id=\"21\"></a>"
      ]
    },
    {
      "cell_type": "code",
      "execution_count": 25,
      "id": "19ed7908",
      "metadata": {},
      "outputs": [],
      "source": [
        "# Importation des modules\n",
        "from sklearn.ensemble import RandomForestClassifier\n",
        "from sklearn.metrics import confusion_matrix, accuracy_score, classification_report"
      ]
    },
    {
      "cell_type": "code",
      "execution_count": 26,
      "id": "bacterial-visibility",
      "metadata": {
        "id": "bacterial-visibility",
        "outputId": "c6da9ef8-c008-4efc-f359-56325ef304e9"
      },
      "outputs": [
        {
          "data": {
            "text/plain": [
              "RandomForestClassifier(n_estimators=40)"
            ]
          },
          "execution_count": 26,
          "metadata": {},
          "output_type": "execute_result"
        }
      ],
      "source": [
        "model2=RandomForestClassifier(40)\n",
        "model2.fit(X_train_under,y_train_under)"
      ]
    },
    {
      "cell_type": "code",
      "execution_count": 27,
      "id": "seeing-attack",
      "metadata": {
        "id": "seeing-attack",
        "outputId": "5a38aad5-1698-4c44-9c90-8195da7ca803"
      },
      "outputs": [
        {
          "name": "stdout",
          "output_type": "stream",
          "text": [
            "Confusion Matrix\n",
            "     train:y=0  train:y=1  test:y=0  test:y=1\n",
            "y=0        354          0       126        12\n",
            "y=1          0        384         8       100 \n",
            "\n",
            "\n",
            "[[354   0]\n",
            " [  0 384]]\n"
          ]
        },
        {
          "data": {
            "image/png": "[encoded data removed]",
            "text/plain": [
              "<Figure size 1500x500 with 4 Axes>"
            ]
          },
          "metadata": {},
          "output_type": "display_data"
        },
        {
          "name": "stdout",
          "output_type": "stream",
          "text": [
            "              precision    recall  f1-score   support\n",
            "\n",
            "           0       0.94      0.91      0.93       138\n",
            "           1       0.89      0.93      0.91       108\n",
            "\n",
            "    accuracy                           0.92       246\n",
            "   macro avg       0.92      0.92      0.92       246\n",
            "weighted avg       0.92      0.92      0.92       246\n",
            "\n"
          ]
        }
      ],
      "source": [
        "\n",
        "pred1 = model2.predict(X_train_under)\n",
        "c_train_under = confusion_matrix(y_train_under, pred1)\n",
        "pred = model2.predict(X_test_under)\n",
        "c_test_under = confusion_matrix(y_test_under, pred)\n",
        "print(\"Confusion Matrix\")\n",
        "print(pd.DataFrame(np.hstack([c_train_under, c_test_under]), index=[\"y=0\", \"y=1\"],\n",
        "                            columns=\"train:y=0 train:y=1 test:y=0 test:y=1\".split()), \"\\n\\n\")\n",
        "\n",
        "\n",
        "print(c_train_under)\n",
        "plt.figure(figsize = (15,5))\n",
        "plt.subplot(1,2,1)\n",
        "sns.heatmap(c_train_under,annot=True,cmap='Blues',fmt='0')\n",
        "\n",
        "plt.subplot(1,2,2)\n",
        "sns.heatmap(c_test_under,annot=True,cmap='Reds',fmt='0',xticklabels='auto',\n",
        "    yticklabels='auto')\n",
        "plt.show()\n",
        "print(classification_report(y_test_under, pred))\n",
        "sns.heatmap\n",
        "plt.show()"
      ]
    },
    {
      "cell_type": "markdown",
      "id": "single-western",
      "metadata": {
        "id": "single-western"
      },
      "source": [
        "**Dans le Random Forest, l'apprentissage est totale. Et de plus dans les données test, il a détecté environ 88% des fraudes.**"
      ]
    },
    {
      "cell_type": "markdown",
      "id": "variable-charlotte",
      "metadata": {
        "id": "variable-charlotte"
      },
      "source": [
        "### SVM\n",
        "<a id=\"22\"></a>"
      ]
    },
    {
      "cell_type": "code",
      "execution_count": 28,
      "id": "0648e2c5",
      "metadata": {},
      "outputs": [],
      "source": [
        "from sklearn.svm import SVC"
      ]
    },
    {
      "cell_type": "code",
      "execution_count": 29,
      "id": "explicit-border",
      "metadata": {
        "id": "explicit-border"
      },
      "outputs": [],
      "source": [
        "SVM1=SVC(C=1.0, kernel='linear')"
      ]
    },
    {
      "cell_type": "code",
      "execution_count": 30,
      "id": "blond-multiple",
      "metadata": {
        "id": "blond-multiple"
      },
      "outputs": [
        {
          "data": {
            "text/plain": [
              "SVC(kernel='linear')"
            ]
          },
          "execution_count": 30,
          "metadata": {},
          "output_type": "execute_result"
        }
      ],
      "source": [
        "SVM1.fit(X_train_under, y_train_under)"
      ]
    },
    {
      "cell_type": "code",
      "execution_count": 31,
      "id": "based-surge",
      "metadata": {
        "id": "based-surge"
      },
      "outputs": [
        {
          "name": "stdout",
          "output_type": "stream",
          "text": [
            "Confusion Matrix\n",
            "     train:y=0  train:y=1  test:y=0  test:y=1\n",
            "y=0        348          6       127        11\n",
            "y=1         32        352         8       100 \n",
            "\n",
            "\n",
            "[[348   6]\n",
            " [ 32 352]]\n"
          ]
        },
        {
          "data": {
            "image/png": "[encoded data removed]",
            "text/plain": [
              "<Figure size 1500x500 with 4 Axes>"
            ]
          },
          "metadata": {},
          "output_type": "display_data"
        },
        {
          "name": "stdout",
          "output_type": "stream",
          "text": [
            "              precision    recall  f1-score   support\n",
            "\n",
            "           0       0.94      0.92      0.93       138\n",
            "           1       0.90      0.93      0.91       108\n",
            "\n",
            "    accuracy                           0.92       246\n",
            "   macro avg       0.92      0.92      0.92       246\n",
            "weighted avg       0.92      0.92      0.92       246\n",
            "\n"
          ]
        }
      ],
      "source": [
        "\n",
        "pred1 = SVM1.predict(X_train_under)\n",
        "c_train_under = confusion_matrix(y_train_under, pred1)\n",
        "pred = SVM1.predict(X_test_under)\n",
        "c_test_under = confusion_matrix(y_test_under, pred)\n",
        "print(\"Confusion Matrix\")\n",
        "print(pd.DataFrame(np.hstack([c_train_under, c_test_under]), index=[\"y=0\", \"y=1\"],\n",
        "                            columns=\"train:y=0 train:y=1 test:y=0 test:y=1\".split()), \"\\n\\n\")\n",
        "\n",
        "\n",
        "print(c_train_under)\n",
        "plt.figure(figsize = (15,5))\n",
        "plt.subplot(1,2,1)\n",
        "sns.heatmap(c_train_under,annot=True,cmap='Blues',fmt='0')\n",
        "\n",
        "plt.subplot(1,2,2)\n",
        "sns.heatmap(c_test_under,annot=True,cmap='Reds',fmt='0',xticklabels='auto',\n",
        "    yticklabels='auto')\n",
        "plt.show()\n",
        "print(classification_report(y_test_under, pred))\n",
        "sns.heatmap\n",
        "plt.show()"
      ]
    },
    {
      "cell_type": "code",
      "execution_count": 32,
      "id": "regulated-fighter",
      "metadata": {
        "id": "regulated-fighter"
      },
      "outputs": [
        {
          "data": {
            "text/plain": [
              "0.890625"
            ]
          },
          "execution_count": 32,
          "metadata": {},
          "output_type": "execute_result"
        }
      ],
      "source": [
        "114/(114+14)"
      ]
    },
    {
      "cell_type": "markdown",
      "id": "analyzed-stone",
      "metadata": {
        "id": "analyzed-stone"
      },
      "source": [
        "**Le SVM ici apprend pratiquement bien les données, et a une bonne généralisation sur les données test. Il a détecté environ 89% des fraudes.**"
      ]
    },
    {
      "cell_type": "markdown",
      "id": "silver-donna",
      "metadata": {
        "id": "silver-donna"
      },
      "source": [
        "### Neural Network\n",
        "<a id=\"23\"></a>"
      ]
    },
    {
      "cell_type": "code",
      "execution_count": 33,
      "id": "ea92f3d6",
      "metadata": {},
      "outputs": [
        {
          "ename": "",
          "evalue": "",
          "output_type": "error",
          "traceback": [
            "\u001b[1;31mLe Kernel s’est bloqué lors de l’exécution du code dans la cellule active ou une cellule précédente. Veuillez vérifier le code dans la ou les cellules pour identifier une cause possible de l’échec. Cliquez <a href='https://aka.ms/vscodeJupyterKernelCrash'>ici</a> pour plus d’informations. Pour plus d’informations, consultez Jupyter <a href='command:jupyter.viewOutput'>log</a>."
          ]
        }
      ],
      "source": [
        "import keras\n",
        "from keras.models import Sequential\n",
        "from keras.layers import Dense\n",
        "import tensorflow as tf"
      ]
    },
    {
      "cell_type": "code",
      "execution_count": null,
      "id": "mounted-aberdeen",
      "metadata": {
        "id": "mounted-aberdeen"
      },
      "outputs": [],
      "source": [
        "# Initialisation du reseau\n",
        "network1 = Sequential()\n",
        "\n",
        "# Ajout de la couche d'entree et de la 1ere couche cachee\n",
        "network1.add(Dense(units = 60, kernel_initializer = 'uniform', activation = 'relu', input_dim = 30))\n",
        "\n",
        "# Ajout de la 2eme couche cachee\n",
        "network1.add(Dense(units = 60, kernel_initializer = 'uniform', activation = 'relu'))\n",
        "\n",
        "# Ajout de la couche de sortie\n",
        "network1.add(Dense(units = 1, kernel_initializer = 'uniform', activation = 'sigmoid'))\n",
        "\n",
        "# Fitting the ANN to the Training set\n",
        "#network.fit(X_train_samp, y_train_samp, batch_size = 10, epochs = 5)\n"
      ]
    },
    {
      "cell_type": "code",
      "execution_count": null,
      "id": "confused-heath",
      "metadata": {
        "id": "confused-heath"
      },
      "outputs": [],
      "source": [
        "network1.summary()"
      ]
    },
    {
      "cell_type": "code",
      "execution_count": null,
      "id": "built-biography",
      "metadata": {
        "id": "built-biography"
      },
      "outputs": [],
      "source": [
        "network1.compile(optimizer='adam',loss='binary_crossentropy',metrics=['accuracy'])"
      ]
    },
    {
      "cell_type": "code",
      "execution_count": null,
      "id": "exciting-trinity",
      "metadata": {
        "id": "exciting-trinity"
      },
      "outputs": [],
      "source": [
        "network1.fit(X_train_under,y_train_under,batch_size=10,epochs=10)"
      ]
    },
    {
      "cell_type": "code",
      "execution_count": null,
      "id": "mineral-terrace",
      "metadata": {
        "id": "mineral-terrace"
      },
      "outputs": [],
      "source": [
        "loss,score=network1.evaluate(X_test,y_test)\n",
        "print(\"score: \",score)"
      ]
    },
    {
      "cell_type": "code",
      "execution_count": null,
      "id": "activated-interview",
      "metadata": {
        "id": "activated-interview"
      },
      "outputs": [],
      "source": [
        "pred1 = network1.predict_classes(X_train_under)\n",
        "c_train_under = confusion_matrix(y_train_under, pred1)\n",
        "pred = network1.predict_classes(X_test_under)\n",
        "c_test_under = confusion_matrix(y_test_under, pred)\n",
        "print(\"Confusion Matrix\")\n",
        "print(pd.DataFrame(np.hstack([c_train_under, c_test_under]), index=[\"y=0\", \"y=1\"],\n",
        "                            columns=\"train:y=0 train:y=1 test:y=0 test:y=1\".split()), \"\\n\\n\")\n",
        "\n",
        "\n",
        "print(c_train_under)\n",
        "plt.figure(figsize = (15,5))\n",
        "plt.subplot(1,2,1)\n",
        "sns.heatmap(c_train_under,annot=True,cmap='Blues',fmt='0')\n",
        "\n",
        "plt.subplot(1,2,2)\n",
        "sns.heatmap(c_test_under,annot=True,cmap='Reds',fmt='0',xticklabels='auto',\n",
        "    yticklabels='auto')\n",
        "plt.show()\n",
        "print(classification_report(y_test_under, pred))\n",
        "sns.heatmap\n",
        "plt.show()"
      ]
    },
    {
      "cell_type": "markdown",
      "id": "minus-premium",
      "metadata": {
        "id": "minus-premium"
      },
      "source": [
        "**Ici, dans le cas de under-sampling, le réseau de neuronne détecte entièrement les non fraudes dans les données train et test. Par contre le modèle détecte un faible taux de fraudes dans les tests et les trains.**"
      ]
    },
    {
      "cell_type": "markdown",
      "id": "hindu-mineral",
      "metadata": {
        "id": "hindu-mineral"
      },
      "source": [
        "<h1 align=\"center\"> CONCLUSION </h1>"
      ]
    },
    {
      "cell_type": "markdown",
      "id": "monetary-mounting",
      "metadata": {
        "id": "monetary-mounting"
      },
      "source": [
        "En résumé, le Random Forest est le modèle qui est a le plus fort taux de prédiction malgré le déséquilibre des classes dans les\n",
        "données. Il est donc le modèle le plus adapté pour ce type de données. La technique d'équilibrage des données (oversampling et undersampling) a nettement  améliorer la détection des ces fraudes bien que en utilisant oversampling, on trouve que la taille des données double et le SVM met plus temps à s'executer.\n"
      ]
    },
    {
      "cell_type": "code",
      "execution_count": null,
      "id": "isolated-belarus",
      "metadata": {
        "id": "isolated-belarus"
      },
      "outputs": [],
      "source": []
    }
  ],
  "metadata": {
    "accelerator": "TPU",
    "colab": {
      "provenance": []
    },
    "kernelspec": {
      "display_name": "Python 3",
      "language": "python",
      "name": "python3"
    },
    "language_info": {
      "codemirror_mode": {
        "name": "ipython",
        "version": 3
      },
      "file_extension": ".py",
      "mimetype": "text/x-python",
      "name": "python",
      "nbconvert_exporter": "python",
      "pygments_lexer": "ipython3",
      "version": "3.9.13"
    }
  },
  "nbformat": 4,
  "nbformat_minor": 5
}
