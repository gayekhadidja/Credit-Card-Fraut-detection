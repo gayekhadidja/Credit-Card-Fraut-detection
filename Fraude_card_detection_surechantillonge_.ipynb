{
  "cells": [
    {
      "cell_type": "markdown",
      "id": "pC_u06DMEyoD",
      "metadata": {
        "id": "pC_u06DMEyoD"
      },
      "source": [
        "<h1 align=\"center\"> MACHINE LEARNING </h1>\n"
      ]
    },
    {
      "cell_type": "markdown",
      "id": "iBJnSBg5EyoF",
      "metadata": {
        "id": "iBJnSBg5EyoF"
      },
      "source": [
        "**Project :** Credit Card Fraud Detection With Machine Learning\n",
        "\n"
      ]
    },
    {
      "cell_type": "markdown",
      "id": "f5WuxHKYEyoF",
      "metadata": {
        "id": "f5WuxHKYEyoF"
      },
      "source": [
        "<h1 align=\"center\"> PLAN   </h1>\n",
        "\n",
        "<h2>INTRODUCTION</h2>\n",
        "\n",
        "I. <b>PREMIER CONTACT</b><br>\n",
        "a) [Importation](#debut)<br>\n",
        "b) [Visualisation](#1)<br><br>\n",
        "....  i) [Rapport Résumé avec Pandas-Profiling ](#pp)<br><br>\n",
        "....  ii) [Matrices de Correlation](#2)<br><br>\n",
        "c) [Test des Modèles](#3)<br><br>\n",
        "....  i) [Random Forest](#4)<br><br>\n",
        ".......     -) [Interpretation du Random Forest](#5)<br><br>\n",
        "  ii) [SVM](#6)<br><br>\n",
        ".......     -) [Interpretation du SVM](#7)<br><br>\n",
        "....  iii) [Reseau de Neurones](#8)<br><br>\n",
        ".......     -) [Interpretation du Reseau de Neurones](#9)<br><br>\n",
        "<b>Conclusion  Partielle</b><br>  \n",
        "\n",
        "II. <b>PREPROCESSING</b><br>\n",
        "a) [Séparation et Visualisation](#10)<br>\n",
        "b) [Scaling](#12)<br><br>\n",
        "\n",
        "III) <b>Sur-échantillonnage avec imblearn</b><br>\n",
        "A. [Fitting model](#fm)</b><br>\n",
        ".... a) [Random Forest](#15)<br>\n",
        ".... b) [SVM](#16)<br>\n",
        ".... c) [RESEAU DE NEURONES](#17)<br>\n",
        "\n",
        "\n",
        "IV. <b>Sous-echantillonage</b><br>\n",
        "A) [Normalisation de notre données d'entrainement](#19)<br>\n",
        "B) [Application des modèles](#20)<br>\n",
        ".... a) [Random Forest](#21)<br>\n",
        ".... b) [SVM](#22)<br>\n",
        ".... c) [RESEAU DE NEURONES](#23)<br>\n",
        "\n",
        "<h2>CONCLUSION </h2>\n"
      ]
    },
    {
      "cell_type": "markdown",
      "id": "e9IdwfEpEyoG",
      "metadata": {
        "id": "e9IdwfEpEyoG"
      },
      "source": [
        "-------------------------------------------------------------------------------------------------------------------------------"
      ]
    },
    {
      "cell_type": "markdown",
      "id": "Oxvdr9bVEyoG",
      "metadata": {
        "id": "Oxvdr9bVEyoG"
      },
      "source": [
        "<h1 align=\"center\"> INTRODUCTION  </h1>\n",
        "<a id=\"debut\"></a>"
      ]
    },
    {
      "cell_type": "markdown",
      "id": "OOadHl6XEyoK",
      "metadata": {
        "id": "OOadHl6XEyoK"
      },
      "source": [
        "# I.  PREMIER CONTACT"
      ]
    },
    {
      "cell_type": "markdown",
      "id": "IbHvx0sOEyoK",
      "metadata": {
        "id": "IbHvx0sOEyoK"
      },
      "source": [
        "## Importation\n",
        "<a id=\"debut\"></a>"
      ]
    },
    {
      "cell_type": "code",
      "execution_count": 1,
      "id": "w-i0V3eWEyoK",
      "metadata": {
        "id": "w-i0V3eWEyoK"
      },
      "outputs": [],
      "source": [
        "import numpy as np\n",
        "import pandas as pd\n",
        "import seaborn as sns\n",
        "import matplotlib.pyplot as plt\n",
        "#from visualization import viz_data\n",
        "import warnings\n",
        "warnings.filterwarnings(\"ignore\")"
      ]
    },
    {
      "cell_type": "code",
      "source": [
        "from google.colab import drive\n",
        "drive.mount('/content/drive')"
      ],
      "metadata": {
        "colab": {
          "base_uri": "https://localhost:8080/"
        },
        "id": "S8SG4ayy6f2O",
        "outputId": "a217cc47-68fa-4fed-d0ca-fbde89189c3d"
      },
      "id": "S8SG4ayy6f2O",
      "execution_count": 2,
      "outputs": [
        {
          "output_type": "stream",
          "name": "stdout",
          "text": [
            "Mounted at /content/drive\n"
          ]
        }
      ]
    },
    {
      "cell_type": "code",
      "execution_count": 3,
      "id": "Vhvxx1GpEyoK",
      "metadata": {
        "id": "Vhvxx1GpEyoK"
      },
      "outputs": [],
      "source": [
        "dt = pd.read_csv('/content/drive/MyDrive/Fraud Card detection /creditcard.csv')"
      ]
    },
    {
      "cell_type": "code",
      "execution_count": 4,
      "id": "IwYHD3v5EyoK",
      "metadata": {
        "colab": {
          "base_uri": "https://localhost:8080/",
          "height": 255
        },
        "id": "IwYHD3v5EyoK",
        "outputId": "aa2bf5b4-9cd8-42d7-f903-30fd7e97fc14"
      },
      "outputs": [
        {
          "output_type": "execute_result",
          "data": {
            "text/plain": [
              "   Time        V1        V2        V3        V4        V5        V6        V7  \\\n",
              "0   0.0 -1.359807 -0.072781  2.536347  1.378155 -0.338321  0.462388  0.239599   \n",
              "1   0.0  1.191857  0.266151  0.166480  0.448154  0.060018 -0.082361 -0.078803   \n",
              "2   1.0 -1.358354 -1.340163  1.773209  0.379780 -0.503198  1.800499  0.791461   \n",
              "3   1.0 -0.966272 -0.185226  1.792993 -0.863291 -0.010309  1.247203  0.237609   \n",
              "4   2.0 -1.158233  0.877737  1.548718  0.403034 -0.407193  0.095921  0.592941   \n",
              "\n",
              "         V8        V9  ...       V21       V22       V23       V24       V25  \\\n",
              "0  0.098698  0.363787  ... -0.018307  0.277838 -0.110474  0.066928  0.128539   \n",
              "1  0.085102 -0.255425  ... -0.225775 -0.638672  0.101288 -0.339846  0.167170   \n",
              "2  0.247676 -1.514654  ...  0.247998  0.771679  0.909412 -0.689281 -0.327642   \n",
              "3  0.377436 -1.387024  ... -0.108300  0.005274 -0.190321 -1.175575  0.647376   \n",
              "4 -0.270533  0.817739  ... -0.009431  0.798278 -0.137458  0.141267 -0.206010   \n",
              "\n",
              "        V26       V27       V28  Amount  Class  \n",
              "0 -0.189115  0.133558 -0.021053  149.62      0  \n",
              "1  0.125895 -0.008983  0.014724    2.69      0  \n",
              "2 -0.139097 -0.055353 -0.059752  378.66      0  \n",
              "3 -0.221929  0.062723  0.061458  123.50      0  \n",
              "4  0.502292  0.219422  0.215153   69.99      0  \n",
              "\n",
              "[5 rows x 31 columns]"
            ],
            "text/html": [
              "\n",
              "  <div id=\"df-81dd9b79-eec8-4735-bbef-19582bedff67\" class=\"colab-df-container\">\n",
              "    <div>\n",
              "<style scoped>\n",
              "    .dataframe tbody tr th:only-of-type {\n",
              "        vertical-align: middle;\n",
              "    }\n",
              "\n",
              "    .dataframe tbody tr th {\n",
              "        vertical-align: top;\n",
              "    }\n",
              "\n",
              "    .dataframe thead th {\n",
              "        text-align: right;\n",
              "    }\n",
              "</style>\n",
              "<table border=\"1\" class=\"dataframe\">\n",
              "  <thead>\n",
              "    <tr style=\"text-align: right;\">\n",
              "      <th></th>\n",
              "      <th>Time</th>\n",
              "      <th>V1</th>\n",
              "      <th>V2</th>\n",
              "      <th>V3</th>\n",
              "      <th>V4</th>\n",
              "      <th>V5</th>\n",
              "      <th>V6</th>\n",
              "      <th>V7</th>\n",
              "      <th>V8</th>\n",
              "      <th>V9</th>\n",
              "      <th>...</th>\n",
              "      <th>V21</th>\n",
              "      <th>V22</th>\n",
              "      <th>V23</th>\n",
              "      <th>V24</th>\n",
              "      <th>V25</th>\n",
              "      <th>V26</th>\n",
              "      <th>V27</th>\n",
              "      <th>V28</th>\n",
              "      <th>Amount</th>\n",
              "      <th>Class</th>\n",
              "    </tr>\n",
              "  </thead>\n",
              "  <tbody>\n",
              "    <tr>\n",
              "      <th>0</th>\n",
              "      <td>0.0</td>\n",
              "      <td>-1.359807</td>\n",
              "      <td>-0.072781</td>\n",
              "      <td>2.536347</td>\n",
              "      <td>1.378155</td>\n",
              "      <td>-0.338321</td>\n",
              "      <td>0.462388</td>\n",
              "      <td>0.239599</td>\n",
              "      <td>0.098698</td>\n",
              "      <td>0.363787</td>\n",
              "      <td>...</td>\n",
              "      <td>-0.018307</td>\n",
              "      <td>0.277838</td>\n",
              "      <td>-0.110474</td>\n",
              "      <td>0.066928</td>\n",
              "      <td>0.128539</td>\n",
              "      <td>-0.189115</td>\n",
              "      <td>0.133558</td>\n",
              "      <td>-0.021053</td>\n",
              "      <td>149.62</td>\n",
              "      <td>0</td>\n",
              "    </tr>\n",
              "    <tr>\n",
              "      <th>1</th>\n",
              "      <td>0.0</td>\n",
              "      <td>1.191857</td>\n",
              "      <td>0.266151</td>\n",
              "      <td>0.166480</td>\n",
              "      <td>0.448154</td>\n",
              "      <td>0.060018</td>\n",
              "      <td>-0.082361</td>\n",
              "      <td>-0.078803</td>\n",
              "      <td>0.085102</td>\n",
              "      <td>-0.255425</td>\n",
              "      <td>...</td>\n",
              "      <td>-0.225775</td>\n",
              "      <td>-0.638672</td>\n",
              "      <td>0.101288</td>\n",
              "      <td>-0.339846</td>\n",
              "      <td>0.167170</td>\n",
              "      <td>0.125895</td>\n",
              "      <td>-0.008983</td>\n",
              "      <td>0.014724</td>\n",
              "      <td>2.69</td>\n",
              "      <td>0</td>\n",
              "    </tr>\n",
              "    <tr>\n",
              "      <th>2</th>\n",
              "      <td>1.0</td>\n",
              "      <td>-1.358354</td>\n",
              "      <td>-1.340163</td>\n",
              "      <td>1.773209</td>\n",
              "      <td>0.379780</td>\n",
              "      <td>-0.503198</td>\n",
              "      <td>1.800499</td>\n",
              "      <td>0.791461</td>\n",
              "      <td>0.247676</td>\n",
              "      <td>-1.514654</td>\n",
              "      <td>...</td>\n",
              "      <td>0.247998</td>\n",
              "      <td>0.771679</td>\n",
              "      <td>0.909412</td>\n",
              "      <td>-0.689281</td>\n",
              "      <td>-0.327642</td>\n",
              "      <td>-0.139097</td>\n",
              "      <td>-0.055353</td>\n",
              "      <td>-0.059752</td>\n",
              "      <td>378.66</td>\n",
              "      <td>0</td>\n",
              "    </tr>\n",
              "    <tr>\n",
              "      <th>3</th>\n",
              "      <td>1.0</td>\n",
              "      <td>-0.966272</td>\n",
              "      <td>-0.185226</td>\n",
              "      <td>1.792993</td>\n",
              "      <td>-0.863291</td>\n",
              "      <td>-0.010309</td>\n",
              "      <td>1.247203</td>\n",
              "      <td>0.237609</td>\n",
              "      <td>0.377436</td>\n",
              "      <td>-1.387024</td>\n",
              "      <td>...</td>\n",
              "      <td>-0.108300</td>\n",
              "      <td>0.005274</td>\n",
              "      <td>-0.190321</td>\n",
              "      <td>-1.175575</td>\n",
              "      <td>0.647376</td>\n",
              "      <td>-0.221929</td>\n",
              "      <td>0.062723</td>\n",
              "      <td>0.061458</td>\n",
              "      <td>123.50</td>\n",
              "      <td>0</td>\n",
              "    </tr>\n",
              "    <tr>\n",
              "      <th>4</th>\n",
              "      <td>2.0</td>\n",
              "      <td>-1.158233</td>\n",
              "      <td>0.877737</td>\n",
              "      <td>1.548718</td>\n",
              "      <td>0.403034</td>\n",
              "      <td>-0.407193</td>\n",
              "      <td>0.095921</td>\n",
              "      <td>0.592941</td>\n",
              "      <td>-0.270533</td>\n",
              "      <td>0.817739</td>\n",
              "      <td>...</td>\n",
              "      <td>-0.009431</td>\n",
              "      <td>0.798278</td>\n",
              "      <td>-0.137458</td>\n",
              "      <td>0.141267</td>\n",
              "      <td>-0.206010</td>\n",
              "      <td>0.502292</td>\n",
              "      <td>0.219422</td>\n",
              "      <td>0.215153</td>\n",
              "      <td>69.99</td>\n",
              "      <td>0</td>\n",
              "    </tr>\n",
              "  </tbody>\n",
              "</table>\n",
              "<p>5 rows × 31 columns</p>\n",
              "</div>\n",
              "    <div class=\"colab-df-buttons\">\n",
              "\n",
              "  <div class=\"colab-df-container\">\n",
              "    <button class=\"colab-df-convert\" onclick=\"convertToInteractive('df-81dd9b79-eec8-4735-bbef-19582bedff67')\"\n",
              "            title=\"Convert this dataframe to an interactive table.\"\n",
              "            style=\"display:none;\">\n",
              "\n",
              "  <svg xmlns=\"http://www.w3.org/2000/svg\" height=\"24px\" viewBox=\"0 -960 960 960\">\n",
              "    <path d=\"M120-120v-720h720v720H120Zm60-500h600v-160H180v160Zm220 220h160v-160H400v160Zm0 220h160v-160H400v160ZM180-400h160v-160H180v160Zm440 0h160v-160H620v160ZM180-180h160v-160H180v160Zm440 0h160v-160H620v160Z\"/>\n",
              "  </svg>\n",
              "    </button>\n",
              "\n",
              "  <style>\n",
              "    .colab-df-container {\n",
              "      display:flex;\n",
              "      gap: 12px;\n",
              "    }\n",
              "\n",
              "    .colab-df-convert {\n",
              "      background-color: #E8F0FE;\n",
              "      border: none;\n",
              "      border-radius: 50%;\n",
              "      cursor: pointer;\n",
              "      display: none;\n",
              "      fill: #1967D2;\n",
              "      height: 32px;\n",
              "      padding: 0 0 0 0;\n",
              "      width: 32px;\n",
              "    }\n",
              "\n",
              "    .colab-df-convert:hover {\n",
              "      background-color: #E2EBFA;\n",
              "      box-shadow: 0px 1px 2px rgba(60, 64, 67, 0.3), 0px 1px 3px 1px rgba(60, 64, 67, 0.15);\n",
              "      fill: #174EA6;\n",
              "    }\n",
              "\n",
              "    .colab-df-buttons div {\n",
              "      margin-bottom: 4px;\n",
              "    }\n",
              "\n",
              "    [theme=dark] .colab-df-convert {\n",
              "      background-color: #3B4455;\n",
              "      fill: #D2E3FC;\n",
              "    }\n",
              "\n",
              "    [theme=dark] .colab-df-convert:hover {\n",
              "      background-color: #434B5C;\n",
              "      box-shadow: 0px 1px 3px 1px rgba(0, 0, 0, 0.15);\n",
              "      filter: drop-shadow(0px 1px 2px rgba(0, 0, 0, 0.3));\n",
              "      fill: #FFFFFF;\n",
              "    }\n",
              "  </style>\n",
              "\n",
              "    <script>\n",
              "      const buttonEl =\n",
              "        document.querySelector('#df-81dd9b79-eec8-4735-bbef-19582bedff67 button.colab-df-convert');\n",
              "      buttonEl.style.display =\n",
              "        google.colab.kernel.accessAllowed ? 'block' : 'none';\n",
              "\n",
              "      async function convertToInteractive(key) {\n",
              "        const element = document.querySelector('#df-81dd9b79-eec8-4735-bbef-19582bedff67');\n",
              "        const dataTable =\n",
              "          await google.colab.kernel.invokeFunction('convertToInteractive',\n",
              "                                                    [key], {});\n",
              "        if (!dataTable) return;\n",
              "\n",
              "        const docLinkHtml = 'Like what you see? Visit the ' +\n",
              "          '<a target=\"_blank\" href=https://colab.research.google.com/notebooks/data_table.ipynb>data table notebook</a>'\n",
              "          + ' to learn more about interactive tables.';\n",
              "        element.innerHTML = '';\n",
              "        dataTable['output_type'] = 'display_data';\n",
              "        await google.colab.output.renderOutput(dataTable, element);\n",
              "        const docLink = document.createElement('div');\n",
              "        docLink.innerHTML = docLinkHtml;\n",
              "        element.appendChild(docLink);\n",
              "      }\n",
              "    </script>\n",
              "  </div>\n",
              "\n",
              "\n",
              "<div id=\"df-41d55251-67f8-43c0-b9a8-3c0472ea7daa\">\n",
              "  <button class=\"colab-df-quickchart\" onclick=\"quickchart('df-41d55251-67f8-43c0-b9a8-3c0472ea7daa')\"\n",
              "            title=\"Suggest charts.\"\n",
              "            style=\"display:none;\">\n",
              "\n",
              "<svg xmlns=\"http://www.w3.org/2000/svg\" height=\"24px\"viewBox=\"0 0 24 24\"\n",
              "     width=\"24px\">\n",
              "    <g>\n",
              "        <path d=\"M19 3H5c-1.1 0-2 .9-2 2v14c0 1.1.9 2 2 2h14c1.1 0 2-.9 2-2V5c0-1.1-.9-2-2-2zM9 17H7v-7h2v7zm4 0h-2V7h2v10zm4 0h-2v-4h2v4z\"/>\n",
              "    </g>\n",
              "</svg>\n",
              "  </button>\n",
              "\n",
              "<style>\n",
              "  .colab-df-quickchart {\n",
              "      --bg-color: #E8F0FE;\n",
              "      --fill-color: #1967D2;\n",
              "      --hover-bg-color: #E2EBFA;\n",
              "      --hover-fill-color: #174EA6;\n",
              "      --disabled-fill-color: #AAA;\n",
              "      --disabled-bg-color: #DDD;\n",
              "  }\n",
              "\n",
              "  [theme=dark] .colab-df-quickchart {\n",
              "      --bg-color: #3B4455;\n",
              "      --fill-color: #D2E3FC;\n",
              "      --hover-bg-color: #434B5C;\n",
              "      --hover-fill-color: #FFFFFF;\n",
              "      --disabled-bg-color: #3B4455;\n",
              "      --disabled-fill-color: #666;\n",
              "  }\n",
              "\n",
              "  .colab-df-quickchart {\n",
              "    background-color: var(--bg-color);\n",
              "    border: none;\n",
              "    border-radius: 50%;\n",
              "    cursor: pointer;\n",
              "    display: none;\n",
              "    fill: var(--fill-color);\n",
              "    height: 32px;\n",
              "    padding: 0;\n",
              "    width: 32px;\n",
              "  }\n",
              "\n",
              "  .colab-df-quickchart:hover {\n",
              "    background-color: var(--hover-bg-color);\n",
              "    box-shadow: 0 1px 2px rgba(60, 64, 67, 0.3), 0 1px 3px 1px rgba(60, 64, 67, 0.15);\n",
              "    fill: var(--button-hover-fill-color);\n",
              "  }\n",
              "\n",
              "  .colab-df-quickchart-complete:disabled,\n",
              "  .colab-df-quickchart-complete:disabled:hover {\n",
              "    background-color: var(--disabled-bg-color);\n",
              "    fill: var(--disabled-fill-color);\n",
              "    box-shadow: none;\n",
              "  }\n",
              "\n",
              "  .colab-df-spinner {\n",
              "    border: 2px solid var(--fill-color);\n",
              "    border-color: transparent;\n",
              "    border-bottom-color: var(--fill-color);\n",
              "    animation:\n",
              "      spin 1s steps(1) infinite;\n",
              "  }\n",
              "\n",
              "  @keyframes spin {\n",
              "    0% {\n",
              "      border-color: transparent;\n",
              "      border-bottom-color: var(--fill-color);\n",
              "      border-left-color: var(--fill-color);\n",
              "    }\n",
              "    20% {\n",
              "      border-color: transparent;\n",
              "      border-left-color: var(--fill-color);\n",
              "      border-top-color: var(--fill-color);\n",
              "    }\n",
              "    30% {\n",
              "      border-color: transparent;\n",
              "      border-left-color: var(--fill-color);\n",
              "      border-top-color: var(--fill-color);\n",
              "      border-right-color: var(--fill-color);\n",
              "    }\n",
              "    40% {\n",
              "      border-color: transparent;\n",
              "      border-right-color: var(--fill-color);\n",
              "      border-top-color: var(--fill-color);\n",
              "    }\n",
              "    60% {\n",
              "      border-color: transparent;\n",
              "      border-right-color: var(--fill-color);\n",
              "    }\n",
              "    80% {\n",
              "      border-color: transparent;\n",
              "      border-right-color: var(--fill-color);\n",
              "      border-bottom-color: var(--fill-color);\n",
              "    }\n",
              "    90% {\n",
              "      border-color: transparent;\n",
              "      border-bottom-color: var(--fill-color);\n",
              "    }\n",
              "  }\n",
              "</style>\n",
              "\n",
              "  <script>\n",
              "    async function quickchart(key) {\n",
              "      const quickchartButtonEl =\n",
              "        document.querySelector('#' + key + ' button');\n",
              "      quickchartButtonEl.disabled = true;  // To prevent multiple clicks.\n",
              "      quickchartButtonEl.classList.add('colab-df-spinner');\n",
              "      try {\n",
              "        const charts = await google.colab.kernel.invokeFunction(\n",
              "            'suggestCharts', [key], {});\n",
              "      } catch (error) {\n",
              "        console.error('Error during call to suggestCharts:', error);\n",
              "      }\n",
              "      quickchartButtonEl.classList.remove('colab-df-spinner');\n",
              "      quickchartButtonEl.classList.add('colab-df-quickchart-complete');\n",
              "    }\n",
              "    (() => {\n",
              "      let quickchartButtonEl =\n",
              "        document.querySelector('#df-41d55251-67f8-43c0-b9a8-3c0472ea7daa button');\n",
              "      quickchartButtonEl.style.display =\n",
              "        google.colab.kernel.accessAllowed ? 'block' : 'none';\n",
              "    })();\n",
              "  </script>\n",
              "</div>\n",
              "    </div>\n",
              "  </div>\n"
            ]
          },
          "metadata": {},
          "execution_count": 4
        }
      ],
      "source": [
        "dt.head()"
      ]
    },
    {
      "cell_type": "markdown",
      "id": "prompt-sphere",
      "metadata": {
        "id": "prompt-sphere"
      },
      "source": [
        "### Rapport Résumé avec Pandas-Profiling\n",
        "<a id=\"pp\"></a>"
      ]
    },
    {
      "cell_type": "code",
      "execution_count": 5,
      "id": "liked-directory",
      "metadata": {
        "id": "liked-directory"
      },
      "outputs": [],
      "source": [
        "\n",
        "# from pandas_profiling import profile_report# permet de faire l'analyse exploratoire des données\n",
        "# dt_report=dt.profile_report()\n",
        "# dt_report"
      ]
    },
    {
      "cell_type": "code",
      "execution_count": 6,
      "id": "incorporated-vertex",
      "metadata": {
        "id": "incorporated-vertex"
      },
      "outputs": [],
      "source": [
        "#dt.describe().T"
      ]
    },
    {
      "cell_type": "markdown",
      "id": "greek-suspect",
      "metadata": {
        "id": "greek-suspect"
      },
      "source": [
        "## Visualisation\n",
        "<a id=\"1\"></a>"
      ]
    },
    {
      "cell_type": "markdown",
      "id": "heard-vegetation",
      "metadata": {
        "id": "heard-vegetation"
      },
      "source": [
        "### Matrices de Correlation  \n",
        "<a id=\"2\"></a>\n",
        "\n",
        "La représentation des matrices de corrélation est une étape inspensable à la compréhension de nos données. Nous voulons savoir s'il existe des caractéristiques qui influencent le plus sur le fait qu'une transaction soit une fraude ou non.\n"
      ]
    },
    {
      "cell_type": "markdown",
      "id": "primary-magnitude",
      "metadata": {
        "id": "primary-magnitude"
      },
      "source": [
        "## Test des Modèles\n",
        "<a id=\"3\"></a>"
      ]
    },
    {
      "cell_type": "code",
      "execution_count": 7,
      "id": "treated-short",
      "metadata": {
        "id": "treated-short"
      },
      "outputs": [],
      "source": [
        "# Séparation des features et du Target\n",
        "feature = dt.iloc[:, 0:30].columns\n",
        "ft = dt[feature]\n",
        "target = dt.iloc[:1, 30: ].columns\n",
        "tg = dt[target]\n",
        "#print(ft),print(tg)"
      ]
    },
    {
      "cell_type": "code",
      "execution_count": 8,
      "id": "brief-angola",
      "metadata": {
        "colab": {
          "base_uri": "https://localhost:8080/"
        },
        "id": "brief-angola",
        "outputId": "0bc2ba97-9ec7-47f7-ad5a-f16afcceb3bf"
      },
      "outputs": [
        {
          "output_type": "execute_result",
          "data": {
            "text/plain": [
              "Class\n",
              "0        284315\n",
              "1           492\n",
              "dtype: int64"
            ]
          },
          "metadata": {},
          "execution_count": 8
        }
      ],
      "source": [
        "tg.value_counts()"
      ]
    },
    {
      "cell_type": "code",
      "execution_count": 9,
      "id": "little-reflection",
      "metadata": {
        "id": "little-reflection"
      },
      "outputs": [],
      "source": [
        "# Split de nos données\n",
        "from sklearn.model_selection import train_test_split\n",
        "X_train,X_test,y_train,y_test=train_test_split(ft,tg,test_size=0.2,random_state=42)"
      ]
    },
    {
      "cell_type": "markdown",
      "id": "Ftd_K6q9EyoN",
      "metadata": {
        "id": "Ftd_K6q9EyoN"
      },
      "source": [
        "## PREPROCESSING\n",
        "<a id=\"10\"></a>"
      ]
    },
    {
      "cell_type": "markdown",
      "id": "X1WdFPq8EyoN",
      "metadata": {
        "id": "X1WdFPq8EyoN"
      },
      "source": [
        "## Séparation et Visualisation\n",
        "<a id=\"11\"></a>"
      ]
    },
    {
      "cell_type": "code",
      "execution_count": 10,
      "id": "6qEajTRIEyoN",
      "metadata": {
        "id": "6qEajTRIEyoN"
      },
      "outputs": [],
      "source": [
        "# Separating feature and targer of the dataset\n",
        "feature = dt.iloc[:, 0:30].columns\n",
        "ft = dt[feature]\n"
      ]
    },
    {
      "cell_type": "code",
      "execution_count": 11,
      "id": "ambient-creator",
      "metadata": {
        "id": "ambient-creator"
      },
      "outputs": [],
      "source": [
        "#ft.describe()"
      ]
    },
    {
      "cell_type": "code",
      "execution_count": 12,
      "id": "AWEwfd7bEyoP",
      "metadata": {
        "id": "AWEwfd7bEyoP"
      },
      "outputs": [],
      "source": [
        "target = dt.iloc[:1, 30: ].columns\n",
        "tg = dt[target]\n"
      ]
    },
    {
      "cell_type": "code",
      "execution_count": 13,
      "id": "LuocpxAzEyoQ",
      "metadata": {
        "id": "LuocpxAzEyoQ"
      },
      "outputs": [],
      "source": [
        "# # visualisation de la variable Class\n",
        "# cl= sns.countplot(dt['Class'])\n",
        "# cl.set_xticklabels(['Pas de Fraude','Fraude'])\n",
        "# plt.show()"
      ]
    },
    {
      "cell_type": "code",
      "execution_count": 14,
      "id": "jGSdyeooEyoQ",
      "metadata": {
        "id": "jGSdyeooEyoQ",
        "colab": {
          "base_uri": "https://localhost:8080/"
        },
        "outputId": "f9b4eb8e-b02f-41d9-a65c-d068bf1502ed"
      },
      "outputs": [
        {
          "output_type": "stream",
          "name": "stdout",
          "text": [
            "La taille des Fraudes:  (492, 31)\n",
            "La taille des  Pas-Fraudes:  (284315, 31)\n"
          ]
        }
      ],
      "source": [
        "# Séparation des Class==1 et class==0\n",
        "Fraude = dt[dt['Class']==1]\n",
        "\n",
        "Pas_Fraude = dt[dt['Class']==0]\n",
        "\n",
        "print('La taille des Fraudes: ',Fraude.shape)\n",
        "print('La taille des  Pas-Fraudes: ',Pas_Fraude.shape)"
      ]
    },
    {
      "cell_type": "markdown",
      "id": "IY0A7Z0zEyoR",
      "metadata": {
        "id": "IY0A7Z0zEyoR"
      },
      "source": [
        "## Scaling\n",
        "<a id=\"12\"></a>"
      ]
    },
    {
      "cell_type": "markdown",
      "id": "afraid-comedy",
      "metadata": {
        "id": "afraid-comedy"
      },
      "source": [
        "En lisant la matrice de Corrélation obtenue dans la section précedente, on peut envisager de 'Time' et 'Amount' afin de les amener au même echelle que les autres colonnes. Ainsi nous utiliserons \"RoustScaler\" de la librairie \"slearn.preprocessing\" parcequ'il est plus tolérant aux outliers"
      ]
    },
    {
      "cell_type": "code",
      "execution_count": 15,
      "id": "failing-rally",
      "metadata": {
        "id": "failing-rally"
      },
      "outputs": [],
      "source": [
        "from sklearn.preprocessing import RobustScaler\n",
        "sc=RobustScaler()\n",
        "X_train=sc.fit_transform(X_train)\n",
        "X_test= sc.fit_transform(X_test)"
      ]
    },
    {
      "cell_type": "markdown",
      "id": "W1iD5FM3EyoR",
      "metadata": {
        "id": "W1iD5FM3EyoR"
      },
      "source": [
        "# Sur-échantillonnage avec imblearn\n",
        "<a id=\"13\"></a>"
      ]
    },
    {
      "cell_type": "code",
      "execution_count": 16,
      "id": "M2zleDGQsoMO",
      "metadata": {
        "id": "M2zleDGQsoMO"
      },
      "outputs": [],
      "source": [
        "from imblearn.over_sampling import RandomOverSampler"
      ]
    },
    {
      "cell_type": "code",
      "execution_count": 17,
      "id": "LTHEbnEVtIn_",
      "metadata": {
        "id": "LTHEbnEVtIn_"
      },
      "outputs": [],
      "source": [
        "sample=RandomOverSampler()"
      ]
    },
    {
      "cell_type": "code",
      "execution_count": 18,
      "id": "em5dNWN7soW3",
      "metadata": {
        "id": "em5dNWN7soW3"
      },
      "outputs": [],
      "source": [
        "X_train_samp, y_train_samp = sample.fit_resample(X_train,y_train )"
      ]
    },
    {
      "cell_type": "code",
      "execution_count": 19,
      "id": "aBARBhoIsoeT",
      "metadata": {
        "id": "aBARBhoIsoeT",
        "colab": {
          "base_uri": "https://localhost:8080/"
        },
        "outputId": "bc2a16fd-dbf3-4641-c587-9b2defc55c36"
      },
      "outputs": [
        {
          "output_type": "execute_result",
          "data": {
            "text/plain": [
              "((454902, 30), (454902, 1))"
            ]
          },
          "metadata": {},
          "execution_count": 19
        }
      ],
      "source": [
        "X_train_samp.shape, y_train_samp.shape"
      ]
    },
    {
      "cell_type": "markdown",
      "id": "te1fP0gguGoy",
      "metadata": {
        "id": "te1fP0gguGoy"
      },
      "source": [
        "## Fitting model\n",
        "<a id=\"fm\"></a>"
      ]
    },
    {
      "cell_type": "markdown",
      "id": "maritime-ferry",
      "metadata": {
        "id": "maritime-ferry"
      },
      "source": [
        "### Random Forest\n",
        "<a id=\"15\"></a>"
      ]
    },
    {
      "cell_type": "code",
      "execution_count": 20,
      "id": "muslim-rocket",
      "metadata": {
        "id": "muslim-rocket"
      },
      "outputs": [],
      "source": [
        "from sklearn.ensemble import RandomForestClassifier\n",
        "from sklearn.metrics import confusion_matrix, accuracy_score, classification_report"
      ]
    },
    {
      "cell_type": "code",
      "execution_count": 21,
      "id": "k76K8HWssoqJ",
      "metadata": {
        "id": "k76K8HWssoqJ",
        "colab": {
          "base_uri": "https://localhost:8080/",
          "height": 74
        },
        "outputId": "cd962855-2227-4622-c72e-38930143945c"
      },
      "outputs": [
        {
          "output_type": "execute_result",
          "data": {
            "text/plain": [
              "RandomForestClassifier(n_estimators=40)"
            ],
            "text/html": [
              "<style>#sk-container-id-1 {color: black;background-color: white;}#sk-container-id-1 pre{padding: 0;}#sk-container-id-1 div.sk-toggleable {background-color: white;}#sk-container-id-1 label.sk-toggleable__label {cursor: pointer;display: block;width: 100%;margin-bottom: 0;padding: 0.3em;box-sizing: border-box;text-align: center;}#sk-container-id-1 label.sk-toggleable__label-arrow:before {content: \"▸\";float: left;margin-right: 0.25em;color: #696969;}#sk-container-id-1 label.sk-toggleable__label-arrow:hover:before {color: black;}#sk-container-id-1 div.sk-estimator:hover label.sk-toggleable__label-arrow:before {color: black;}#sk-container-id-1 div.sk-toggleable__content {max-height: 0;max-width: 0;overflow: hidden;text-align: left;background-color: #f0f8ff;}#sk-container-id-1 div.sk-toggleable__content pre {margin: 0.2em;color: black;border-radius: 0.25em;background-color: #f0f8ff;}#sk-container-id-1 input.sk-toggleable__control:checked~div.sk-toggleable__content {max-height: 200px;max-width: 100%;overflow: auto;}#sk-container-id-1 input.sk-toggleable__control:checked~label.sk-toggleable__label-arrow:before {content: \"▾\";}#sk-container-id-1 div.sk-estimator input.sk-toggleable__control:checked~label.sk-toggleable__label {background-color: #d4ebff;}#sk-container-id-1 div.sk-label input.sk-toggleable__control:checked~label.sk-toggleable__label {background-color: #d4ebff;}#sk-container-id-1 input.sk-hidden--visually {border: 0;clip: rect(1px 1px 1px 1px);clip: rect(1px, 1px, 1px, 1px);height: 1px;margin: -1px;overflow: hidden;padding: 0;position: absolute;width: 1px;}#sk-container-id-1 div.sk-estimator {font-family: monospace;background-color: #f0f8ff;border: 1px dotted black;border-radius: 0.25em;box-sizing: border-box;margin-bottom: 0.5em;}#sk-container-id-1 div.sk-estimator:hover {background-color: #d4ebff;}#sk-container-id-1 div.sk-parallel-item::after {content: \"\";width: 100%;border-bottom: 1px solid gray;flex-grow: 1;}#sk-container-id-1 div.sk-label:hover label.sk-toggleable__label {background-color: #d4ebff;}#sk-container-id-1 div.sk-serial::before {content: \"\";position: absolute;border-left: 1px solid gray;box-sizing: border-box;top: 0;bottom: 0;left: 50%;z-index: 0;}#sk-container-id-1 div.sk-serial {display: flex;flex-direction: column;align-items: center;background-color: white;padding-right: 0.2em;padding-left: 0.2em;position: relative;}#sk-container-id-1 div.sk-item {position: relative;z-index: 1;}#sk-container-id-1 div.sk-parallel {display: flex;align-items: stretch;justify-content: center;background-color: white;position: relative;}#sk-container-id-1 div.sk-item::before, #sk-container-id-1 div.sk-parallel-item::before {content: \"\";position: absolute;border-left: 1px solid gray;box-sizing: border-box;top: 0;bottom: 0;left: 50%;z-index: -1;}#sk-container-id-1 div.sk-parallel-item {display: flex;flex-direction: column;z-index: 1;position: relative;background-color: white;}#sk-container-id-1 div.sk-parallel-item:first-child::after {align-self: flex-end;width: 50%;}#sk-container-id-1 div.sk-parallel-item:last-child::after {align-self: flex-start;width: 50%;}#sk-container-id-1 div.sk-parallel-item:only-child::after {width: 0;}#sk-container-id-1 div.sk-dashed-wrapped {border: 1px dashed gray;margin: 0 0.4em 0.5em 0.4em;box-sizing: border-box;padding-bottom: 0.4em;background-color: white;}#sk-container-id-1 div.sk-label label {font-family: monospace;font-weight: bold;display: inline-block;line-height: 1.2em;}#sk-container-id-1 div.sk-label-container {text-align: center;}#sk-container-id-1 div.sk-container {/* jupyter's `normalize.less` sets `[hidden] { display: none; }` but bootstrap.min.css set `[hidden] { display: none !important; }` so we also need the `!important` here to be able to override the default hidden behavior on the sphinx rendered scikit-learn.org. See: https://github.com/scikit-learn/scikit-learn/issues/21755 */display: inline-block !important;position: relative;}#sk-container-id-1 div.sk-text-repr-fallback {display: none;}</style><div id=\"sk-container-id-1\" class=\"sk-top-container\"><div class=\"sk-text-repr-fallback\"><pre>RandomForestClassifier(n_estimators=40)</pre><b>In a Jupyter environment, please rerun this cell to show the HTML representation or trust the notebook. <br />On GitHub, the HTML representation is unable to render, please try loading this page with nbviewer.org.</b></div><div class=\"sk-container\" hidden><div class=\"sk-item\"><div class=\"sk-estimator sk-toggleable\"><input class=\"sk-toggleable__control sk-hidden--visually\" id=\"sk-estimator-id-1\" type=\"checkbox\" checked><label for=\"sk-estimator-id-1\" class=\"sk-toggleable__label sk-toggleable__label-arrow\">RandomForestClassifier</label><div class=\"sk-toggleable__content\"><pre>RandomForestClassifier(n_estimators=40)</pre></div></div></div></div></div>"
            ]
          },
          "metadata": {},
          "execution_count": 21
        }
      ],
      "source": [
        "model=RandomForestClassifier(40)\n",
        "model.fit(X_train_samp,y_train_samp)"
      ]
    },
    {
      "cell_type": "code",
      "execution_count": 22,
      "id": "N3N05VeBsonm",
      "metadata": {
        "id": "N3N05VeBsonm",
        "colab": {
          "base_uri": "https://localhost:8080/",
          "height": 770
        },
        "outputId": "a254b0a1-3069-4777-8e97-d2ca50345484"
      },
      "outputs": [
        {
          "output_type": "stream",
          "name": "stdout",
          "text": [
            "Confusion Matrix\n",
            "     train:y=0  train:y=1  test:y=0  test:y=1\n",
            "y=0     227451          0     56862         2\n",
            "y=1          0     227451        22        76 \n",
            "\n",
            "\n",
            "[[227451      0]\n",
            " [     0 227451]]\n"
          ]
        },
        {
          "output_type": "display_data",
          "data": {
            "text/plain": [
              "<Figure size 1500x500 with 4 Axes>"
            ],
            "image/png": "[encoded data removed]"
          },
          "metadata": {}
        },
        {
          "output_type": "stream",
          "name": "stdout",
          "text": [
            "              precision    recall  f1-score   support\n",
            "\n",
            "           0       1.00      1.00      1.00     56864\n",
            "           1       0.97      0.78      0.86        98\n",
            "\n",
            "    accuracy                           1.00     56962\n",
            "   macro avg       0.99      0.89      0.93     56962\n",
            "weighted avg       1.00      1.00      1.00     56962\n",
            "\n"
          ]
        }
      ],
      "source": [
        "\n",
        "pred1 = model.predict(X_train_samp)\n",
        "c_train = confusion_matrix(y_train_samp, pred1)\n",
        "pred = model.predict(X_test)\n",
        "c_test = confusion_matrix(y_test, pred)\n",
        "print(\"Confusion Matrix\")\n",
        "print(pd.DataFrame(np.hstack([c_train, c_test]), index=[\"y=0\", \"y=1\"],\n",
        "                            columns=\"train:y=0 train:y=1 test:y=0 test:y=1\".split()), \"\\n\\n\")\n",
        "\n",
        "\n",
        "print(c_train)\n",
        "plt.figure(figsize = (15,5))\n",
        "plt.subplot(1,2,1)\n",
        "sns.heatmap(c_train,annot=True,cmap='Blues',fmt='0')\n",
        "plt.title('matrice de confusion pour X_train')\n",
        "\n",
        "plt.subplot(1,2,2)\n",
        "sns.heatmap(c_test,annot=True,cmap='Reds',fmt='0',xticklabels='auto',\n",
        "    yticklabels='auto')\n",
        "plt.title('Matrice de confusion X_test')\n",
        "plt.show()\n",
        "print(classification_report(y_test, pred))\n",
        "sns.heatmap\n",
        "plt.show()"
      ]
    },
    {
      "cell_type": "markdown",
      "id": "royal-contrary",
      "metadata": {
        "id": "royal-contrary"
      },
      "source": [
        "**Ici le Random Forest a appris à 100% . Par ailleur sur les données test, le modèle a détecté presque la totalité des non fraudes et 76,53% des fraudes**"
      ]
    },
    {
      "cell_type": "markdown",
      "id": "jSZxX_twvlg8",
      "metadata": {
        "id": "jSZxX_twvlg8"
      },
      "source": [
        "### SVM\n",
        "<a id=\"16\"></a>"
      ]
    },
    {
      "cell_type": "code",
      "execution_count": 23,
      "id": "LOPoRITvvj67",
      "metadata": {
        "id": "LOPoRITvvj67"
      },
      "outputs": [],
      "source": [
        "from sklearn.svm import SVC"
      ]
    },
    {
      "cell_type": "code",
      "execution_count": 24,
      "id": "H7fxaeYqvkFq",
      "metadata": {
        "id": "H7fxaeYqvkFq"
      },
      "outputs": [],
      "source": [
        "SVM=SVC(C=1.0, kernel='linear')"
      ]
    },
    {
      "cell_type": "code",
      "execution_count": null,
      "id": "muGH_UpgvkNv",
      "metadata": {
        "id": "muGH_UpgvkNv"
      },
      "outputs": [],
      "source": [
        "SVM.fit(X_train_samp, y_train_samp)"
      ]
    },
    {
      "cell_type": "code",
      "execution_count": null,
      "id": "e3HpuAyrwnPm",
      "metadata": {
        "id": "e3HpuAyrwnPm"
      },
      "outputs": [],
      "source": [
        "\n",
        "pred1 = SVM.predict(X_train_samp)\n",
        "c_train = confusion_matrix(y_train_samp, pred1)\n",
        "pred = SVM.predict(X_test)\n",
        "c_test = confusion_matrix(y_test, pred)\n",
        "print(\"Confusion Matrix\")\n",
        "print(pd.DataFrame(np.hstack([c_train, c_test]), index=[\"y=0\", \"y=1\"],\n",
        "                            columns=\"train:y=0 train:y=1 test:y=0 test:y=1\".split()), \"\\n\\n\")\n",
        "\n",
        "\n",
        "print(c_train)\n",
        "plt.figure(figsize = (15,10))\n",
        "plt.subplot(1,2,1)\n",
        "sns.heatmap(c_train,annot=True,cmap='Blues',fmt='0')\n",
        "\n",
        "plt.subplot(1,2,2)\n",
        "sns.heatmap(c_test,annot=True,cmap='Reds',fmt='0',xticklabels='auto',\n",
        "    yticklabels='auto')\n",
        "plt.show()\n",
        "print(classification_report(y_test, pred))\n",
        "sns.heatmap"
      ]
    },
    {
      "cell_type": "markdown",
      "id": "uMXkqdfaxagY",
      "metadata": {
        "id": "uMXkqdfaxagY"
      },
      "source": [
        "### RESEAU DE NEURONES\n",
        "<a id=\"17\"></a>"
      ]
    },
    {
      "cell_type": "code",
      "execution_count": null,
      "id": "arranged-recognition",
      "metadata": {
        "id": "arranged-recognition"
      },
      "outputs": [],
      "source": [
        "import keras\n",
        "from keras.models import Sequential\n",
        "from keras.layers import Dense\n",
        "import tensorflow as tf"
      ]
    },
    {
      "cell_type": "code",
      "execution_count": null,
      "id": "gLO2VkXRwnaP",
      "metadata": {
        "id": "gLO2VkXRwnaP"
      },
      "outputs": [],
      "source": [
        "# Initialisation du reseau\n",
        "network = Sequential()\n",
        "\n",
        "# Ajout de la couche d'entree et de la 1ere couche cachee\n",
        "network.add(Dense(units = 15, kernel_initializer = 'uniform', activation = 'relu', input_dim = 30))\n",
        "\n",
        "# Ajout de la 2eme couche cachee\n",
        "network.add(Dense(units = 15, kernel_initializer = 'uniform', activation = 'relu'))\n",
        "\n",
        "# Ajout de la couche de sortie\n",
        "network.add(Dense(units = 1, kernel_initializer = 'uniform', activation = 'sigmoid'))\n",
        "\n",
        "# Fitting the ANN to the Training set\n",
        "#network.fit(X_train_samp, y_train_samp, batch_size = 10, epochs = 5)\n"
      ]
    },
    {
      "cell_type": "code",
      "execution_count": null,
      "id": "indie-vancouver",
      "metadata": {
        "id": "indie-vancouver"
      },
      "outputs": [],
      "source": [
        "network.summary()"
      ]
    },
    {
      "cell_type": "code",
      "execution_count": null,
      "id": "beautiful-relevance",
      "metadata": {
        "id": "beautiful-relevance"
      },
      "outputs": [],
      "source": [
        "network.compile(optimizer='adam',loss='binary_crossentropy',metrics=['accuracy'])"
      ]
    },
    {
      "cell_type": "code",
      "execution_count": null,
      "id": "ideal-serve",
      "metadata": {
        "id": "ideal-serve"
      },
      "outputs": [],
      "source": [
        "network.fit(X_train_samp,y_train_samp,batch_size=10,epochs=10)"
      ]
    },
    {
      "cell_type": "code",
      "execution_count": null,
      "id": "crucial-seafood",
      "metadata": {
        "id": "crucial-seafood"
      },
      "outputs": [],
      "source": [
        "loss,score=network.evaluate(X_test,y_test)\n",
        "print(\"score: \",score)"
      ]
    },
    {
      "cell_type": "code",
      "execution_count": null,
      "id": "YR5yNgaOwp7V",
      "metadata": {
        "id": "YR5yNgaOwp7V"
      },
      "outputs": [],
      "source": [
        "\n",
        "pred1 = network.predict_classes(X_train_samp)\n",
        "c_train = confusion_matrix(y_train_samp, pred1)\n",
        "pred = network.predict_classes(X_test)\n",
        "c_test = confusion_matrix(y_test, pred)\n",
        "print(\"Confusion Matrix\")\n",
        "print(pd.DataFrame(np.hstack([c_train, c_test]), index=[\"y=0\", \"y=1\"],\n",
        "                            columns=\"train:y=0 train:y=1 test:y=0 test:y=1\".split()), \"\\n\\n\")\n",
        "\n",
        "\n",
        "print(c_train)\n",
        "plt.figure(figsize = (15,5))\n",
        "plt.subplot(1,2,1)\n",
        "sns.heatmap(c_train,annot=True,cmap='Blues',fmt='0')\n",
        "\n",
        "plt.subplot(1,2,2)\n",
        "sns.heatmap(c_test,annot=True,cmap='Reds',fmt='0',xticklabels='auto',\n",
        "    yticklabels='auto')\n",
        "plt.show()\n",
        "print(classification_report(y_test, pred))\n",
        "sns.heatmap\n",
        "plt.show()"
      ]
    },
    {
      "cell_type": "markdown",
      "id": "abstract-hampton",
      "metadata": {
        "id": "abstract-hampton"
      },
      "source": [
        "**Dans le cas de sur-échantillonnage, le réseau de neuronne a très bien appris et sur les données test, le modèle a détecté 87.8% des fraudes.**"
      ]
    },
    {
      "cell_type": "markdown",
      "id": "hindu-mineral",
      "metadata": {
        "id": "hindu-mineral"
      },
      "source": [
        "<h1 align=\"center\"> CONCLUSION </h1>"
      ]
    },
    {
      "cell_type": "markdown",
      "id": "monetary-mounting",
      "metadata": {
        "id": "monetary-mounting"
      },
      "source": [
        "En résumé, le Random Forest est le modèle qui est a le plus fort taux de prédiction malgré le déséquilibre des classes dans les\n",
        "données. Il est donc le modèle le plus adapté pour ce type de données. La technique d'équilibrage des données (oversampling et undersampling) a nettement  améliorer la détection des ces fraudes bien que en utilisant oversampling, on trouve que la taille des données double et le SVM met plus temps à s'executer.\n"
      ]
    },
    {
      "cell_type": "code",
      "execution_count": null,
      "id": "isolated-belarus",
      "metadata": {
        "id": "isolated-belarus"
      },
      "outputs": [],
      "source": []
    }
  ],
  "metadata": {
    "accelerator": "TPU",
    "colab": {
      "provenance": []
    },
    "kernelspec": {
      "display_name": "Python 3",
      "language": "python",
      "name": "python3"
    },
    "language_info": {
      "codemirror_mode": {
        "name": "ipython",
        "version": 3
      },
      "file_extension": ".py",
      "mimetype": "text/x-python",
      "name": "python",
      "nbconvert_exporter": "python",
      "pygments_lexer": "ipython3",
      "version": "3.7.6"
    }
  },
  "nbformat": 4,
  "nbformat_minor": 5
}